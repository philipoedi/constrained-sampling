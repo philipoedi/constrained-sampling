{
 "cells": [
  {
   "cell_type": "code",
   "execution_count": 1,
   "id": "f3fd51f5-6e4c-4398-9f3e-7f0712a36f66",
   "metadata": {},
   "outputs": [],
   "source": [
    "import numpy as np\n"
   ]
  },
  {
   "cell_type": "code",
   "execution_count": 21,
   "id": "6787dc4e-56a5-4423-ba1d-943b33ed26aa",
   "metadata": {},
   "outputs": [],
   "source": [
    "\n",
    "\n",
    "\n",
    "def get_transition_matrix(n,k):\n",
    "    P = np.zeros((n,n))\n",
    "    w = 2*k + 1\n",
    "    hk = k + 1\n",
    "    #I = np.identity(n) * w\n",
    "    for i in range(hk):\n",
    "        np.fill_diagonal(P[i:,i:],1/w)\n",
    "    return P\n",
    "\n",
    "\n",
    "k = get_transition_matrix(4,2)"
   ]
  },
  {
   "cell_type": "code",
   "execution_count": 19,
   "id": "036f6141-b557-4896-bb0f-302698ff06f4",
   "metadata": {},
   "outputs": [],
   "source": [
    "I = np.identity(4)"
   ]
  },
  {
   "cell_type": "code",
   "execution_count": 20,
   "id": "0e9208ee-5f1e-43e7-b3eb-7fb681f168e2",
   "metadata": {},
   "outputs": [
    {
     "data": {
      "text/plain": [
       "array([[0.14285714, 0.        , 0.        , 0.        ],\n",
       "       [0.        , 0.14285714, 0.        , 0.        ],\n",
       "       [0.        , 0.        , 0.14285714, 0.        ],\n",
       "       [0.        , 0.        , 0.        , 0.14285714]])"
      ]
     },
     "execution_count": 20,
     "metadata": {},
     "output_type": "execute_result"
    }
   ],
   "source": [
    "k"
   ]
  },
  {
   "cell_type": "code",
   "execution_count": null,
   "id": "e05b3a81-dbaa-42d1-9020-81760d49cec8",
   "metadata": {},
   "outputs": [],
   "source": []
  },
  {
   "cell_type": "code",
   "execution_count": null,
   "id": "f0f4598f-d13b-485e-ad2a-773b51a29ade",
   "metadata": {},
   "outputs": [],
   "source": []
  }
 ],
 "metadata": {
  "kernelspec": {
   "display_name": "Python 3",
   "language": "python",
   "name": "python3"
  },
  "language_info": {
   "codemirror_mode": {
    "name": "ipython",
    "version": 3
   },
   "file_extension": ".py",
   "mimetype": "text/x-python",
   "name": "python",
   "nbconvert_exporter": "python",
   "pygments_lexer": "ipython3",
   "version": "3.8.5"
  }
 },
 "nbformat": 4,
 "nbformat_minor": 5
}
