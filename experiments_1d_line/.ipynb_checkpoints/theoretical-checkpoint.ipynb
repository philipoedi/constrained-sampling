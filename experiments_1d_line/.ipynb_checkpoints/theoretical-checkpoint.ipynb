{
 "cells": [
  {
   "cell_type": "code",
   "execution_count": 308,
   "id": "8e63c1c1-0080-4783-8b1c-ee1cac322670",
   "metadata": {},
   "outputs": [],
   "source": [
    "import numpy as np\n",
    "from numpy.linalg import eig, qr, solve\n",
    "from scipy.signal import convolve2d\n",
    "\n",
    "import matplotlib.pyplot as plt"
   ]
  },
  {
   "cell_type": "code",
   "execution_count": 290,
   "id": "a767976a-ac18-47ed-b2fc-12914a7f2237",
   "metadata": {},
   "outputs": [],
   "source": [
    "n = 10\n",
    "k = 3\n",
    "\n",
    "\n",
    "def create_transition_matrix(n,k,algorithm,projection,c=None):\n",
    "    if algorithm == \"grid-walk\":\n",
    "        T = np.zeros((n,n))\n",
    "        w=2*k+1\n",
    "        p=1/w    \n",
    "        for i in range(k+1):\n",
    "            np.fill_diagonal(T[i:,:],p)\n",
    "            np.fill_diagonal(T[:,i:],p)\n",
    "        if projection == True:\n",
    "            for i in range(k+1):\n",
    "                T[0,i] = (k+1-i) * p\n",
    "                T[-1,-i-1] = (k+1-i) * p\n",
    "            T = T.T\n",
    "        else:\n",
    "            for i in range(k+1):\n",
    "                T[:,i] /= p\n",
    "                T[:,i] *= (1 / (w-k+i))\n",
    "                T[:,-i-1] /= p\n",
    "                T[:,-i-1] *= 1 / (w-k+i)\n",
    "            T = T.T\n",
    "    elif algorithm == \"RRT\":\n",
    "        w = n+2*c\n",
    "        T = np.zeros((w,w))\n",
    "        if projection == True:\n",
    "            p = 1/w\n",
    "            T[:,c:-c] = p     \n",
    "            p_border = c*p + 0.5*p*k + 0.5*p\n",
    "            T[:,c] = p_border\n",
    "            T[:,-c-1] = p_border\n",
    "            for i in range(1,n-1):\n",
    "                if i < k or i+k >= n:\n",
    "                    T[:,c+i] = p*0.5 \n",
    "                else:\n",
    "                    T[:,c+i] = p\n",
    "        else:\n",
    "            p = 1/(n-k)\n",
    "            T[:,c:-c] = p     \n",
    "            p_border = 0.5*p\n",
    "            T[:,c] = p_border\n",
    "            T[:,-c-1] = p_border\n",
    "            for i in range(1,n-1):\n",
    "                if i < k or i+k >= n:\n",
    "                    T[:,c+i] = p*0.5 \n",
    "                else:\n",
    "                    T[:,c+i] = p\n",
    "    else:\n",
    "        print(\"choose algorithm = 'RRT' | 'grid-walk'\")\n",
    "    return T\n",
    "\n",
    "\n",
    "def solve_stationary_distribution(T):\n",
    "    n = len(T)\n",
    "    I = np.identity(n)\n",
    "    T_new = T.T-I\n",
    "    A = np.zeros((n+1,n))\n",
    "    A[:-1,:] = T_new\n",
    "    A[-1,:] = 1\n",
    "    Q,R = qr(A,mode=\"reduced\")\n",
    "    b = np.zeros(n+1)\n",
    "    b[-1] = 1\n",
    "    Qb = np.matmul(Q.T,b)\n",
    "    x_qr = solve(R,Qb)\n",
    "    return x_qr\n",
    "\n",
    "def evolve_chain(T,n_iter, x_0=None):\n",
    "    n = len(T)\n",
    "    x_i = np.zeros((n_iter,n))\n",
    "    if x_0 is None:\n",
    "        x = np.ones(n)/n\n",
    "    else:\n",
    "        x = x_0\n",
    "    x_i[0,:] = x\n",
    "    for i in range(1,n_iter):\n",
    "        x = x@T\n",
    "        x_i[i,:] = x.copy()\n",
    "    return x_i"
   ]
  },
  {
   "cell_type": "code",
   "execution_count": 294,
   "id": "c6835c5f-3931-421c-aafc-f00524ddf649",
   "metadata": {},
   "outputs": [
    {
     "name": "stdout",
     "output_type": "stream",
     "text": [
      "[0.01 0.01 0.01 0.01 0.01 0.01 0.01 0.01 0.01 0.01 0.01 0.01 0.01 0.01\n",
      " 0.01 0.01 0.01 0.01 0.01 0.01 0.01 0.01 0.01 0.01 0.01 0.01 0.01 0.01\n",
      " 0.01 0.01 0.01 0.01 0.01 0.01 0.01 0.01 0.01 0.01 0.01 0.01 0.01 0.01\n",
      " 0.01 0.01 0.01 0.01 0.01 0.01 0.01 0.01 0.01 0.01 0.01 0.01 0.01 0.01\n",
      " 0.01 0.01 0.01 0.01 0.01 0.01 0.01 0.01 0.01 0.01 0.01 0.01 0.01 0.01\n",
      " 0.01 0.01 0.01 0.01 0.01 0.01 0.01 0.01 0.01 0.01 0.01 0.01 0.01 0.01\n",
      " 0.01 0.01 0.01 0.01 0.01 0.01 0.01 0.01 0.01 0.01 0.01 0.01 0.01 0.01\n",
      " 0.01 0.01]\n",
      "[0.01 0.01 0.01 0.01 0.01 0.01 0.01 0.01 0.01 0.01 0.01 0.01 0.01 0.01\n",
      " 0.01 0.01 0.01 0.01 0.01 0.01 0.01 0.01 0.01 0.01 0.01 0.01 0.01 0.01\n",
      " 0.01 0.01 0.01 0.01 0.01 0.01 0.01 0.01 0.01 0.01 0.01 0.01 0.01 0.01\n",
      " 0.01 0.01 0.01 0.01 0.01 0.01 0.01 0.01 0.01 0.01 0.01 0.01 0.01 0.01\n",
      " 0.01 0.01 0.01 0.01 0.01 0.01 0.01 0.01 0.01 0.01 0.01 0.01 0.01 0.01\n",
      " 0.01 0.01 0.01 0.01 0.01 0.01 0.01 0.01 0.01 0.01 0.01 0.01 0.01 0.01\n",
      " 0.01 0.01 0.01 0.01 0.01 0.01 0.01 0.01 0.01 0.01 0.01 0.01 0.01 0.01\n",
      " 0.01 0.01]\n"
     ]
    },
    {
     "data": {
      "text/plain": [
       "[<matplotlib.lines.Line2D at 0x7f7608aead30>]"
      ]
     },
     "execution_count": 294,
     "metadata": {},
     "output_type": "execute_result"
    },
    {
     "data": {
      "image/png": "[encoded data removed]",
      "text/plain": [
       "<Figure size 432x288 with 1 Axes>"
      ]
     },
     "metadata": {
      "needs_background": "light"
     },
     "output_type": "display_data"
    }
   ],
   "source": [
    "n = 100\n",
    "k = 25\n",
    "c = 10\n",
    "\n",
    "T = create_transition_matrix(n,k,\"RRT\",False,c)\n",
    "x_stat = solve_stationary_distribution(T)\n",
    "print(np.round(x_stat[c:-c],2))\n",
    "plt.plot(x_stat[c:-c])\n",
    "T = create_transition_matrix(n,k,\"grid-walk\",False,c)\n",
    "x_stat = solve_stationary_distribution(T)\n",
    "print(np.round(x_stat,2))\n",
    "plt.plot(x_stat)"
   ]
  },
  {
   "cell_type": "code",
   "execution_count": 321,
   "id": "55826d4a-4950-41c7-836d-b85c2b6555ad",
   "metadata": {},
   "outputs": [
    {
     "name": "stdout",
     "output_type": "stream",
     "text": [
      "[[1. 1. 1. 1. 1. 1.]\n",
      " [1. 0. 0. 0. 0. 1.]\n",
      " [1. 0. 0. 0. 0. 1.]\n",
      " [1. 0. 0. 0. 0. 1.]\n",
      " [1. 0. 0. 0. 0. 1.]\n",
      " [1. 1. 1. 1. 1. 1.]]\n",
      "[[0. 0. 0. 0.]\n",
      " [0. 0. 0. 0.]\n",
      " [0. 0. 0. 0.]\n",
      " [0. 0. 0. 0.]]\n"
     ]
    }
   ],
   "source": [
    "n = 4\n",
    "k = 1\n",
    "w = 2*k + 1\n",
    "c = np.ones((n+(2*k),n+(2*k)))\n",
    "c[k:-k,k:-k] = 0\n",
    "T = np.zeros((n,n))\n",
    "ks = w**2\n",
    "print(c)\n",
    "print(T)\n",
    "counts = convolve2d(c,np.ones((w,w)),\"same\")\n",
    "counts = counts[k:-k,k:-k]\n"
   ]
  },
  {
   "cell_type": "code",
   "execution_count": 327,
   "id": "1d8897de-954a-4a24-ac6b-b7db1e26c3fa",
   "metadata": {},
   "outputs": [
    {
     "data": {
      "text/plain": [
       "array([[5., 3., 3., 5.],\n",
       "       [3., 0., 0., 3.],\n",
       "       [3., 0., 0., 3.],\n",
       "       [5., 3., 3., 5.]])"
      ]
     },
     "execution_count": 327,
     "metadata": {},
     "output_type": "execute_result"
    }
   ],
   "source": [
    "counts"
   ]
  },
  {
   "cell_type": "code",
   "execution_count": 339,
   "id": "9e9995df-ddb6-46d7-b2d4-69182e9f291e",
   "metadata": {},
   "outputs": [],
   "source": [
    "k = np.zeros((3,3))\n",
    "k[1,:] = 1\n",
    "k[:,1] = 1\n",
    "borders = convolve2d(c,k,\"same\")[1:-1,1:-1]"
   ]
  },
  {
   "cell_type": "code",
   "execution_count": 345,
   "id": "83e480ba-a084-4145-a6c5-bcc9f692fe7c",
   "metadata": {},
   "outputs": [
    {
     "data": {
      "text/plain": [
       "array([[3., 2., 2., 3.],\n",
       "       [2., 1., 1., 2.],\n",
       "       [2., 1., 1., 2.],\n",
       "       [3., 2., 2., 3.]])"
      ]
     },
     "execution_count": 345,
     "metadata": {},
     "output_type": "execute_result"
    }
   ],
   "source": [
    "borders+1"
   ]
  },
  {
   "cell_type": "code",
   "execution_count": 344,
   "id": "bd0fba21-58d3-4772-b055-c5a61b82a1f6",
   "metadata": {},
   "outputs": [
    {
     "name": "stdout",
     "output_type": "stream",
     "text": [
      "0 0\n",
      "[]\n",
      "0 1\n",
      "[]\n",
      "0 2\n",
      "[]\n",
      "0 3\n",
      "[]\n",
      "1 0\n",
      "[]\n",
      "1 1\n",
      "[[0. 0.]\n",
      " [0. 0.]]\n",
      "1 2\n",
      "[[0. 0.]\n",
      " [0. 0.]]\n",
      "1 3\n",
      "[[0. 0.]\n",
      " [0. 0.]]\n",
      "2 0\n",
      "[]\n",
      "2 1\n",
      "[[0. 0.]\n",
      " [0. 0.]]\n",
      "2 2\n",
      "[[0. 0.]\n",
      " [0. 0.]]\n",
      "2 3\n",
      "[[0. 0.]\n",
      " [0. 0.]]\n",
      "3 0\n",
      "[]\n",
      "3 1\n",
      "[[0. 0.]\n",
      " [0. 0.]]\n",
      "3 2\n",
      "[[0. 0.]\n",
      " [0. 0.]]\n",
      "3 3\n",
      "[[0. 0.]\n",
      " [0. 0.]]\n"
     ]
    }
   ],
   "source": [
    "qwe = np.zeros((n,n))\n",
    "for i in range(n):\n",
    "    for j in range(n):\n",
    "        print(i,j)\n",
    "        print(qwe[i-1:i+1,j-1:j+1])\n",
    "            "
   ]
  },
  {
   "cell_type": "code",
   "execution_count": 349,
   "id": "96677e50-ff74-4ddd-aa26-381cfebac798",
   "metadata": {},
   "outputs": [],
   "source": [
    "borders+1\n",
    "for i in range(n):\n",
    "    for j in range(n):\n",
    "        qwe[i-1:i+1,j-1:j+1]"
   ]
  },
  {
   "cell_type": "code",
   "execution_count": 387,
   "id": "44557f56-f879-45e1-bb4c-ffe5884e0bfe",
   "metadata": {},
   "outputs": [],
   "source": [
    "\n",
    "n = 10\n",
    "\n",
    "border = np.zeros((n,n))\n",
    "border[:,0] = 1\n",
    "border[:,-1] = 1\n",
    "border[0,:] = 1\n",
    "border[-1,:] = 1\n",
    "corner = np.zeros((n,n))\n",
    "corner[0,0] = 1\n",
    "corner[-1,-1] = 1\n",
    "corner[0,-1] = 1\n",
    "corner[-1,0] = 1"
   ]
  },
  {
   "cell_type": "code",
   "execution_count": 388,
   "id": "ba2dfc16-cc24-4d74-9bc9-51ccfdc0cd7b",
   "metadata": {},
   "outputs": [
    {
     "name": "stdout",
     "output_type": "stream",
     "text": [
      "[[1. 1. 1. 1. 1. 1. 1. 1. 1. 1.]\n",
      " [1. 0. 0. 0. 0. 0. 0. 0. 0. 1.]\n",
      " [1. 0. 0. 0. 0. 0. 0. 0. 0. 1.]\n",
      " [1. 0. 0. 0. 0. 0. 0. 0. 0. 1.]\n",
      " [1. 0. 0. 0. 0. 0. 0. 0. 0. 1.]\n",
      " [1. 0. 0. 0. 0. 0. 0. 0. 0. 1.]\n",
      " [1. 0. 0. 0. 0. 0. 0. 0. 0. 1.]\n",
      " [1. 0. 0. 0. 0. 0. 0. 0. 0. 1.]\n",
      " [1. 0. 0. 0. 0. 0. 0. 0. 0. 1.]\n",
      " [1. 1. 1. 1. 1. 1. 1. 1. 1. 1.]]\n",
      "[[1. 0. 0. 0. 0. 0. 0. 0. 0. 1.]\n",
      " [0. 0. 0. 0. 0. 0. 0. 0. 0. 0.]\n",
      " [0. 0. 0. 0. 0. 0. 0. 0. 0. 0.]\n",
      " [0. 0. 0. 0. 0. 0. 0. 0. 0. 0.]\n",
      " [0. 0. 0. 0. 0. 0. 0. 0. 0. 0.]\n",
      " [0. 0. 0. 0. 0. 0. 0. 0. 0. 0.]\n",
      " [0. 0. 0. 0. 0. 0. 0. 0. 0. 0.]\n",
      " [0. 0. 0. 0. 0. 0. 0. 0. 0. 0.]\n",
      " [0. 0. 0. 0. 0. 0. 0. 0. 0. 0.]\n",
      " [1. 0. 0. 0. 0. 0. 0. 0. 0. 1.]]\n"
     ]
    }
   ],
   "source": [
    "print(border)\n",
    "print(corner)"
   ]
  },
  {
   "cell_type": "code",
   "execution_count": 415,
   "id": "b8651120-970c-4d8d-af67-c911bfaa52b4",
   "metadata": {},
   "outputs": [],
   "source": [
    "\n",
    "\n",
    "def i_j_bc(i,j,k,border,corner):\n",
    "    ij = np.array([i,j])\n",
    "    ij = ij < k   \n",
    "    if ij.sum() == 2:\n",
    "        return border+corner+1\n",
    "    elif ij.sum() == 1:\n",
    "        return border+1\n",
    "    else:\n",
    "        return np.ones((n,n))\n",
    "    \n",
    "def i_j(i,j,k,n):\n",
    "    neigh_mat = np.zeros((n,n))\n",
    "    x_start = 0\n",
    "    x_end = 0 \n",
    "    y_start = 0 \n",
    "    y_end = 0\n",
    "    if i-k < 0:\n",
    "        x_start = 0\n",
    "        x_end = i+k+1\n",
    "    else: \n",
    "        x_start = i-k\n",
    "        x_end = i+k+1\n",
    "    if j-k < 0:\n",
    "        y_start = 0\n",
    "        y_end = j+k+1\n",
    "    else:\n",
    "        y_start = j-k\n",
    "        y_end = j+k+1\n",
    "    neigh_mat[x_start:x_end,y_start:y_end] = 1\n",
    "    return neigh_mat"
   ]
  },
  {
   "cell_type": "code",
   "execution_count": 414,
   "id": "cb3801b1-ed0b-48bc-949a-fd2cfb4d43fc",
   "metadata": {},
   "outputs": [
    {
     "ename": "ValueError",
     "evalue": "The truth value of an array with more than one element is ambiguous. Use a.any() or a.all()",
     "output_type": "error",
     "traceback": [
      "\u001b[0;31m---------------------------------------------------------------------------\u001b[0m",
      "\u001b[0;31mValueError\u001b[0m                                Traceback (most recent call last)",
      "\u001b[0;32m<ipython-input-414-9a2516ce9c2a>\u001b[0m in \u001b[0;36m<module>\u001b[0;34m\u001b[0m\n\u001b[1;32m      1\u001b[0m \u001b[0mi\u001b[0m\u001b[0;34m,\u001b[0m\u001b[0mj\u001b[0m \u001b[0;34m=\u001b[0m \u001b[0;36m9\u001b[0m\u001b[0;34m,\u001b[0m\u001b[0;36m9\u001b[0m\u001b[0;34m\u001b[0m\u001b[0;34m\u001b[0m\u001b[0m\n\u001b[0;32m----> 2\u001b[0;31m \u001b[0mi_j\u001b[0m\u001b[0;34m(\u001b[0m\u001b[0mi\u001b[0m\u001b[0;34m,\u001b[0m\u001b[0mj\u001b[0m\u001b[0;34m,\u001b[0m\u001b[0;36m1\u001b[0m\u001b[0;34m,\u001b[0m\u001b[0mn\u001b[0m\u001b[0;34m)\u001b[0m\u001b[0;34m*\u001b[0m\u001b[0mi_j_bc\u001b[0m\u001b[0;34m(\u001b[0m\u001b[0mi\u001b[0m\u001b[0;34m,\u001b[0m\u001b[0mj\u001b[0m\u001b[0;34m,\u001b[0m\u001b[0;36m1\u001b[0m\u001b[0;34m,\u001b[0m\u001b[0mborder\u001b[0m\u001b[0;34m,\u001b[0m\u001b[0mcorner\u001b[0m\u001b[0;34m)\u001b[0m\u001b[0;34m\u001b[0m\u001b[0;34m\u001b[0m\u001b[0m\n\u001b[0m",
      "\u001b[0;32m<ipython-input-413-b999c831730a>\u001b[0m in \u001b[0;36mi_j_bc\u001b[0;34m(i, j, k, border, corner)\u001b[0m\n\u001b[1;32m      1\u001b[0m \u001b[0;32mdef\u001b[0m \u001b[0mi_j_bc\u001b[0m\u001b[0;34m(\u001b[0m\u001b[0mi\u001b[0m\u001b[0;34m,\u001b[0m\u001b[0mj\u001b[0m\u001b[0;34m,\u001b[0m\u001b[0mk\u001b[0m\u001b[0;34m,\u001b[0m\u001b[0mborder\u001b[0m\u001b[0;34m,\u001b[0m\u001b[0mcorner\u001b[0m\u001b[0;34m)\u001b[0m\u001b[0;34m:\u001b[0m\u001b[0;34m\u001b[0m\u001b[0;34m\u001b[0m\u001b[0m\n\u001b[1;32m      2\u001b[0m     \u001b[0mij\u001b[0m \u001b[0;34m=\u001b[0m \u001b[0mnp\u001b[0m\u001b[0;34m.\u001b[0m\u001b[0marray\u001b[0m\u001b[0;34m(\u001b[0m\u001b[0;34m[\u001b[0m\u001b[0mi\u001b[0m\u001b[0;34m,\u001b[0m\u001b[0mj\u001b[0m\u001b[0;34m]\u001b[0m\u001b[0;34m)\u001b[0m\u001b[0;34m\u001b[0m\u001b[0;34m\u001b[0m\u001b[0m\n\u001b[0;32m----> 3\u001b[0;31m     \u001b[0mij\u001b[0m \u001b[0;34m=\u001b[0m \u001b[0mij\u001b[0m \u001b[0;34m<\u001b[0m \u001b[0mk\u001b[0m \u001b[0;32mor\u001b[0m \u001b[0;34m(\u001b[0m\u001b[0mij\u001b[0m\u001b[0;34m+\u001b[0m\u001b[0mk\u001b[0m\u001b[0;34m)\u001b[0m\u001b[0;34m>\u001b[0m\u001b[0mn\u001b[0m\u001b[0;34m\u001b[0m\u001b[0;34m\u001b[0m\u001b[0m\n\u001b[0m\u001b[1;32m      4\u001b[0m     \u001b[0;32mif\u001b[0m \u001b[0mij\u001b[0m\u001b[0;34m.\u001b[0m\u001b[0msum\u001b[0m\u001b[0;34m(\u001b[0m\u001b[0;34m)\u001b[0m \u001b[0;34m==\u001b[0m \u001b[0;36m2\u001b[0m\u001b[0;34m:\u001b[0m\u001b[0;34m\u001b[0m\u001b[0;34m\u001b[0m\u001b[0m\n\u001b[1;32m      5\u001b[0m         \u001b[0;32mreturn\u001b[0m \u001b[0mborder\u001b[0m\u001b[0;34m+\u001b[0m\u001b[0mcorner\u001b[0m\u001b[0;34m+\u001b[0m\u001b[0;36m1\u001b[0m\u001b[0;34m\u001b[0m\u001b[0;34m\u001b[0m\u001b[0m\n",
      "\u001b[0;31mValueError\u001b[0m: The truth value of an array with more than one element is ambiguous. Use a.any() or a.all()"
     ]
    }
   ],
   "source": [
    "i,j = 9,9\n",
    "i_j(i,j,1,n)*i_j_bc(i,j,1,border,corner)"
   ]
  },
  {
   "cell_type": "code",
   "execution_count": null,
   "id": "9333d486-68a3-4a2f-96a6-dc993cf8bfdb",
   "metadata": {},
   "outputs": [],
   "source": []
  }
 ],
 "metadata": {
  "kernelspec": {
   "display_name": "Python 3",
   "language": "python",
   "name": "python3"
  },
  "language_info": {
   "codemirror_mode": {
    "name": "ipython",
    "version": 3
   },
   "file_extension": ".py",
   "mimetype": "text/x-python",
   "name": "python",
   "nbconvert_exporter": "python",
   "pygments_lexer": "ipython3",
   "version": "3.8.5"
  }
 },
 "nbformat": 4,
 "nbformat_minor": 5
}
