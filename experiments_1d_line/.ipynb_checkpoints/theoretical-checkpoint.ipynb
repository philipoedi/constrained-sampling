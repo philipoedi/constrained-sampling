{
 "cells": [
  {
   "cell_type": "markdown",
   "id": "4567d94d-a3fe-473e-bc47-981098d08507",
   "metadata": {},
   "source": [
    "# Cellular Sampler\n",
    "The following code generates the transition matrices and stationary distributions for the cellular sampler"
   ]
  },
  {
   "cell_type": "code",
   "execution_count": 2,
   "id": "ff41e8b1",
   "metadata": {},
   "outputs": [],
   "source": [
    "import numpy as np\n",
    "from numpy.linalg import eig, qr, solve\n",
    "from scipy.signal import convolve2d\n",
    "\n",
    "import matplotlib.pyplot as plt"
   ]
  },
  {
   "cell_type": "code",
   "execution_count": 3,
   "id": "a0603437",
   "metadata": {},
   "outputs": [],
   "source": [
    "n = 10\n",
    "k = 3\n",
    "\n",
    "\n",
    "def create_transition_matrix(n,k,algorithm,projection,c=None):\n",
    "    if algorithm == \"grid-walk\":\n",
    "        T = np.zeros((n,n))\n",
    "        w=2*k+1\n",
    "        p=1/w    \n",
    "        for i in range(k+1):\n",
    "            np.fill_diagonal(T[i:,:],p)\n",
    "            np.fill_diagonal(T[:,i:],p)\n",
    "        if projection == True:\n",
    "            for i in range(k+1):\n",
    "                T[0,i] = (k+1-i) * p\n",
    "                T[-1,-i-1] = (k+1-i) * p\n",
    "            T = T.T\n",
    "        else:\n",
    "            for i in range(k+1):\n",
    "                T[:,i] /= p\n",
    "                T[:,i] *= (1 / (w-k+i))\n",
    "                T[:,-i-1] /= p\n",
    "                T[:,-i-1] *= 1 / (w-k+i)\n",
    "            T = T.T\n",
    "    elif algorithm == \"RRT\":\n",
    "        w = n+2*c\n",
    "        T = np.zeros((w,w))\n",
    "        if projection == True:\n",
    "            p = 1/w\n",
    "            T[:,c:-c] = p     \n",
    "            p_border = c*p + 0.5*p*k + 0.5*p\n",
    "            T[:,c] = p_border\n",
    "            T[:,-c-1] = p_border\n",
    "            for i in range(1,n-1):\n",
    "                if i < k or i+k >= n:\n",
    "                    T[:,c+i] = p*0.5 \n",
    "                else:\n",
    "                    T[:,c+i] = p\n",
    "        else:\n",
    "            p = 1/(n-k)\n",
    "            T[:,c:-c] = p     \n",
    "            p_border = 0.5*p\n",
    "            T[:,c] = p_border\n",
    "            T[:,-c-1] = p_border\n",
    "            for i in range(1,n-1):\n",
    "                if i < k or i+k >= n:\n",
    "                    T[:,c+i] = p*0.5 \n",
    "                else:\n",
    "                    T[:,c+i] = p\n",
    "        T = T[c:c+n,c:c+n]\n",
    "    else:\n",
    "        print(\"choose algorithm = 'RRT' | 'grid-walk'\")\n",
    "    return T\n",
    "\n",
    "\n",
    "def solve_stationary_distribution(T):\n",
    "    n = len(T)\n",
    "    I = np.identity(n)\n",
    "    T_new = T.T-I\n",
    "    A = np.zeros((n+1,n))\n",
    "    A[:-1,:] = T_new\n",
    "    A[-1,:] = 1\n",
    "    Q,R = qr(A,mode=\"reduced\")\n",
    "    b = np.zeros(n+1)\n",
    "    b[-1] = 1\n",
    "    Qb = np.matmul(Q.T,b)\n",
    "    x_qr = solve(R,Qb)\n",
    "    return x_qr\n",
    "\n",
    "def evolve_chain(T,n_iter, x_0=None):\n",
    "    n = len(T)\n",
    "    x_i = np.zeros((n_iter,n))\n",
    "    if x_0 is None:\n",
    "        x = np.ones(n)/n\n",
    "    else:\n",
    "        x = x_0\n",
    "    x_i[0,:] = x\n",
    "    for i in range(1,n_iter):\n",
    "        x = x@T\n",
    "        x_i[i,:] = x.copy()\n",
    "    return x_i"
   ]
  },
  {
   "cell_type": "code",
   "execution_count": 3,
   "id": "1eeb04dd",
   "metadata": {},
   "outputs": [],
   "source": [
    "# grid walk\n",
    "# number of cells\n",
    "n = 100\n",
    "# neighborhood\n",
    "ks = [10,20,30]\n",
    "\n",
    "for k in ks:\n",
    "    T = create_transition_matrix(n,k,\"grid-walk\",True,c=None)\n",
    "    x_qr = solve_stationary_distribution(T)\n",
    "    np.savetxt(f'grid_walk_projection_discrete_transitions_{k}.out', T) \n",
    "    np.savetxt(f'grid_walk_projection_discrete_stationary_{k}.out', x_qr) \n",
    "    \n",
    "for k in ks:\n",
    "    T = create_transition_matrix(n,k,\"grid-walk\",False,c=None)\n",
    "    x_qr = solve_stationary_distribution(T)\n",
    "    np.savetxt(f'grid_walk_rejection_discrete_transitions_{k}.out', T) \n",
    "    np.savetxt(f'grid_walk_rejection_discrete_stationary_{k}.out', x_qr)     "
   ]
  },
  {
   "cell_type": "code",
   "execution_count": 4,
   "id": "a90d6d05",
   "metadata": {},
   "outputs": [],
   "source": [
    "# RRT\n",
    "# number of cells\n",
    "n = 100\n",
    "# neighborhood\n",
    "k = 1\n",
    "cs = [30,50,70]\n",
    "\n",
    "for c in cs:\n",
    "    T = create_transition_matrix(n,k,\"RRT\",True,c=c)\n",
    "    x_qr = solve_stationary_distribution(T)\n",
    "    np.savetxt(f'rrt_projection_discrete_transitions_{c}.out', T) \n",
    "    np.savetxt(f'rrt_projection_discrete_stationary_{c}.out', x_qr) \n",
    "    \n",
    "for c in cs:\n",
    "    T = create_transition_matrix(n,k,\"RRT\",False,c=c)\n",
    "    x_qr = solve_stationary_distribution(T)\n",
    "    np.savetxt(f'rrt_rejection_discrete_transitions_{c}.out', T) \n",
    "    np.savetxt(f'rrt_rejection_discrete_stationary_{c}.out', x_qr)     "
   ]
  },
  {
   "cell_type": "code",
   "execution_count": 4,
   "id": "b1802ee9",
   "metadata": {},
   "outputs": [
    {
     "name": "stdout",
     "output_type": "stream",
     "text": [
      "[0.1 0.1 0.1 0.1 0.1 0.1 0.1 0.1 0.1 0.1]\n"
     ]
    }
   ],
   "source": [
    "def create_transition_matrix_circle(n,k):\n",
    "    T = np.zeros((n,n))\n",
    "    p = 1/(2*k+1)\n",
    "    for j in range(k):\n",
    "        T[j,0:k+1+j] = p\n",
    "        T[j,-k+j:] = p\n",
    "        T[-j-1,0:k-j] = p\n",
    "    for i in range(n):\n",
    "        T[i,i-k:i+k+1] = p\n",
    "    return T\n",
    "\n",
    "T = create_transition_matrix_circle(10,2)\n",
    "x_qr = solve_stationary_distribution(T)\n",
    "print(x_qr)"
   ]
  },
  {
   "cell_type": "code",
   "execution_count": 5,
   "id": "7307c87d",
   "metadata": {},
   "outputs": [
    {
     "data": {
      "text/plain": [
       "array([[0.2, 0.2, 0.2, 0. , 0. , 0. , 0. , 0. , 0.2, 0.2],\n",
       "       [0.2, 0.2, 0.2, 0.2, 0. , 0. , 0. , 0. , 0. , 0.2],\n",
       "       [0.2, 0.2, 0.2, 0.2, 0.2, 0. , 0. , 0. , 0. , 0. ],\n",
       "       [0. , 0.2, 0.2, 0.2, 0.2, 0.2, 0. , 0. , 0. , 0. ],\n",
       "       [0. , 0. , 0.2, 0.2, 0.2, 0.2, 0.2, 0. , 0. , 0. ],\n",
       "       [0. , 0. , 0. , 0.2, 0.2, 0.2, 0.2, 0.2, 0. , 0. ],\n",
       "       [0. , 0. , 0. , 0. , 0.2, 0.2, 0.2, 0.2, 0.2, 0. ],\n",
       "       [0. , 0. , 0. , 0. , 0. , 0.2, 0.2, 0.2, 0.2, 0.2],\n",
       "       [0.2, 0. , 0. , 0. , 0. , 0. , 0.2, 0.2, 0.2, 0.2],\n",
       "       [0.2, 0.2, 0. , 0. , 0. , 0. , 0. , 0.2, 0.2, 0.2]])"
      ]
     },
     "execution_count": 5,
     "metadata": {},
     "output_type": "execute_result"
    }
   ],
   "source": [
    "T"
   ]
  },
  {
   "cell_type": "code",
   "execution_count": 6,
   "id": "e695ead6",
   "metadata": {},
   "outputs": [],
   "source": [
    "np.savetxt(\"circle_transitions.out\",T)\n",
    "np.savetxt(\"circle_stationary.out\", x_qr)"
   ]
  },
  {
   "cell_type": "code",
   "execution_count": null,
   "id": "9f333e7e",
   "metadata": {},
   "outputs": [],
   "source": []
  }
 ],
 "metadata": {
  "kernelspec": {
   "display_name": "Python 3",
   "language": "python",
   "name": "python3"
  },
  "language_info": {
   "codemirror_mode": {
    "name": "ipython",
    "version": 3
   },
   "file_extension": ".py",
   "mimetype": "text/x-python",
   "name": "python",
   "nbconvert_exporter": "python",
   "pygments_lexer": "ipython3",
   "version": "3.8.5"
  }
 },
 "nbformat": 4,
 "nbformat_minor": 5
}
