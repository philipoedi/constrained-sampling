{
 "cells": [
  {
   "cell_type": "code",
   "execution_count": 1,
   "id": "ac324166-87db-4394-bc72-7c51e390bcf7",
   "metadata": {},
   "outputs": [],
   "source": [
    "import numpy as np\n",
    "import matplotlib.pyplot as plt"
   ]
  },
  {
   "cell_type": "code",
   "execution_count": 3,
   "id": "a5457547-7722-46b6-b382-739d9ca0ebf0",
   "metadata": {},
   "outputs": [],
   "source": [
    "#edge length of rectangle\n",
    "a = 2\n",
    "b = 3"
   ]
  },
  {
   "cell_type": "code",
   "execution_count": 20,
   "id": "5a94de53-bc97-47ef-9ca0-a7a8783e4db2",
   "metadata": {},
   "outputs": [],
   "source": [
    "def sample_over_rect(a,b, times):\n",
    "    data = np.random.rand(2*times).reshape(times,2)\n",
    "    data[:,0] *= a\n",
    "    data[:,1] *= b\n",
    "    return data\n",
    "\n",
    "def size_from_data(data):\n",
    "    cov = np.diagonal(np.cov(data.T))\n",
    "    return np.sqrt(cov*12)\n",
    "\n",
    "def size_from_covariance(cov):\n",
    "    return np.sqrt(np.diagonal(cov)*12)\n",
    "\n",
    "def update_covariance(x, n, mean,cov):\n",
    "    x_mean = x-mean\n",
    "    return n/(1+n) * cov + (n / (1+n)**2) * x_mean.T@x_mean\n",
    "    \n",
    "def update_mean(x, n, mean=0):\n",
    "    return mean + ((x-mean)/(1+n))"
   ]
  },
  {
   "cell_type": "code",
   "execution_count": 17,
   "id": "fceb8187-d20a-4186-9a22-cc55c1bc8884",
   "metadata": {},
   "outputs": [
    {
     "data": {
      "text/plain": [
       "array([[0.66666667, 0.        ],\n",
       "       [0.        , 0.66666667]])"
      ]
     },
     "execution_count": 17,
     "metadata": {},
     "output_type": "execute_result"
    }
   ],
   "source": [
    "update_covariance(np.array([1,2]), 2, np.array([1,2]), np.identity(2))"
   ]
  },
  {
   "cell_type": "code",
   "execution_count": 8,
   "id": "f49474f0-e998-4440-abe3-8beea62c57ab",
   "metadata": {},
   "outputs": [
    {
     "data": {
      "text/plain": [
       "array([2.00568935, 3.01980298])"
      ]
     },
     "execution_count": 8,
     "metadata": {},
     "output_type": "execute_result"
    }
   ],
   "source": [
    "\n",
    "samples = sample_over_rect(a,b,10000)\n",
    "\n",
    "size_from_variance(samples)\n"
   ]
  },
  {
   "cell_type": "code",
   "execution_count": 58,
   "id": "4765ea56-facd-428b-bdfd-5d5a0a04f9f5",
   "metadata": {},
   "outputs": [],
   "source": [
    "theta = np.radians(30)\n",
    "c, s = np.cos(theta), np.sin(theta)\n",
    "R = np.array(((c, -s), (s, c)))"
   ]
  },
  {
   "cell_type": "code",
   "execution_count": 140,
   "id": "04b6c799-1bb0-441f-ad70-0d91f7f86661",
   "metadata": {},
   "outputs": [],
   "source": [
    "# normalize over current 1/density\n",
    "\n",
    "a1, b1 = 2, 3\n",
    "a2, b2 = 1, 1\n",
    "\n",
    "n = 1000000\n",
    "\n",
    "def update_rect(a,b,sample,n,mean,cov):\n",
    "    sample = sample_over_rect(a,b,n)\n",
    "    mean = update_mean(sample, n, mean)\n",
    "    cov = update_covariance(sample,n, mean, cov)\n",
    "    n += 1\n",
    "    return mean, cov, n\n",
    "\n",
    "\n",
    "mean1 = np.array([0,0])\n",
    "mean2 = np.array([0,0])\n",
    "cov1 = np.zeros(4).reshape(2,2)\n",
    "cov2 = np.zeros(4).reshape(2,2)\n",
    "n1 = 0\n",
    "n2 = 0\n",
    "samples1 = []\n",
    "samples2 = []\n",
    "A1 = 0\n",
    "A2 = 0\n",
    "for i in range(n):\n",
    "    A1 = size_from_covariance(cov1).prod()\n",
    "    A2 = size_from_covariance(cov2).prod()  \n",
    "    A_total = A1 + A2\n",
    "    if A_total == 0:\n",
    "        if np.random.rand() > 0.5:\n",
    "            sample = sample_over_rect(a1,b1,1)\n",
    "            sample = sample@R\n",
    "            mean1 = update_mean(sample, n1, mean1)\n",
    "            cov1 = update_covariance(sample,n1, mean1, cov1)\n",
    "            n1 += 1\n",
    "            samples1.append(sample)\n",
    "        else:\n",
    "            sample = sample_over_rect(a2,b2,1)\n",
    "            mean2 = update_mean(sample, n2, mean2) \n",
    "            cov2 = update_covariance(sample, n2, mean2, cov2)\n",
    "            samples2.append(sample)\n",
    "            n2 += 1\n",
    "    else:\n",
    "        if A1 ==  A_total:\n",
    "            sample = sample_over_rect(a2,b2,1)\n",
    "            mean2 = update_mean(sample, n2, mean2) \n",
    "            cov2 = update_covariance(sample, n2, mean2, cov2)\n",
    "            n2 += 1\n",
    "            samples2.append(sample)\n",
    "\n",
    "        elif A2 == A_total:  \n",
    "            sample = sample_over_rect(a1,b1,1)\n",
    "            sample = sample@R\n",
    "            mean1 = update_mean(sample, n1, mean1)\n",
    "            cov1 = update_covariance(sample,n1, mean1, cov1)\n",
    "            n1 += 1\n",
    "            samples1.append(sample)\n",
    "\n",
    "            \n",
    "        elif np.random.rand() < A1 / A_total:\n",
    "            sample = sample_over_rect(a1,b1,1)\n",
    "            sample = sample@R\n",
    "            mean1 = update_mean(sample, n1, mean1)\n",
    "            cov1 = update_covariance(sample,n1, mean1, cov1)\n",
    "            n1 += 1\n",
    "            samples1.append(sample)\n",
    "\n",
    "        else:\n",
    "            sample = sample_over_rect(a2,b2,1)\n",
    "            mean2 = update_mean(sample, n2, mean2) \n",
    "            cov2 = update_covariance(sample, n2, mean2, cov2)\n",
    "            n2 += 1\n",
    "            samples2.append(sample)\n",
    "            \n",
    "            "
   ]
  },
  {
   "cell_type": "code",
   "execution_count": 126,
   "id": "b325e293-f58d-4285-9ec3-b2149b1227ae",
   "metadata": {},
   "outputs": [],
   "source": [
    "# normalize over current 1/density\n",
    "\n",
    "a1, b1 = 2, 3\n",
    "a2, b2 = 1, 1\n",
    "\n",
    "n = 1000000\n",
    "\n",
    "def update_rect(a,b,sample,n,mean,cov):\n",
    "    sample = sample_over_rect(a,b,n)\n",
    "    mean = update_mean(sample, n, mean)\n",
    "    cov = update_covariance(sample,n, mean, cov)\n",
    "    n += 1\n",
    "    return mean, cov, n\n",
    "\n",
    "\n",
    "mean1 = np.array([0,0])\n",
    "mean2 = np.array([0,0])\n",
    "cov1 = np.zeros(4).reshape(2,2)\n",
    "cov2 = np.zeros(4).reshape(2,2)\n",
    "n1 = 0\n",
    "n2 = 0\n",
    "samples1 = []\n",
    "samples2 = []\n",
    "A1 = 0\n",
    "A2 = 0\n",
    "for i in range(n):\n",
    "    if n1 != 0:\n",
    "        A1 = size_from_covariance(cov1).prod()/n1\n",
    "    if n2 != 0:\n",
    "        A2 = size_from_covariance(cov2).prod()/n2\n",
    "    A_total = A1 + A2\n",
    "    if A_total == 0:\n",
    "        if np.random.rand() > 0.5:\n",
    "            sample = sample_over_rect(a1,b1,1)\n",
    "            sample = sample@R\n",
    "            mean1 = update_mean(sample, n1, mean1)\n",
    "            cov1 = update_covariance(sample,n1, mean1, cov1)\n",
    "            n1 += 1\n",
    "            samples1.append(sample)\n",
    "        else:\n",
    "            sample = sample_over_rect(a2,b2,1)\n",
    "            mean2 = update_mean(sample, n2, mean2) \n",
    "            cov2 = update_covariance(sample, n2, mean2, cov2)\n",
    "            samples2.append(sample)\n",
    "            n2 += 1\n",
    "    else:\n",
    "        if A1 ==  A_total:\n",
    "            sample = sample_over_rect(a2,b2,1)\n",
    "            mean2 = update_mean(sample, n2, mean2) \n",
    "            cov2 = update_covariance(sample, n2, mean2, cov2)\n",
    "            n2 += 1\n",
    "            samples2.append(sample)\n",
    "\n",
    "        elif A2 == A_total:  \n",
    "            sample = sample_over_rect(a1,b1,1)\n",
    "            sample = sample@R\n",
    "            mean1 = update_mean(sample, n1, mean1)\n",
    "            cov1 = update_covariance(sample,n1, mean1, cov1)\n",
    "            n1 += 1\n",
    "            samples1.append(sample)\n",
    "\n",
    "            \n",
    "        elif np.random.rand() < (A1 / A_total):\n",
    "            sample = sample_over_rect(a1,b1,1)\n",
    "            sample = sample@R\n",
    "            mean1 = update_mean(sample, n1, mean1)\n",
    "            cov1 = update_covariance(sample,n1, mean1, cov1)\n",
    "            n1 += 1\n",
    "            samples1.append(sample)\n",
    "\n",
    "        else:\n",
    "            sample = sample_over_rect(a2,b2,1)\n",
    "            mean2 = update_mean(sample, n2, mean2) \n",
    "            cov2 = update_covariance(sample, n2, mean2, cov2)\n",
    "            n2 += 1\n",
    "            samples2.append(sample)\n",
    "            \n",
    "            "
   ]
  },
  {
   "cell_type": "code",
   "execution_count": 141,
   "id": "b75e01db-162a-4126-a637-5d6fbf96c06d",
   "metadata": {},
   "outputs": [],
   "source": [
    "samples1_arr = np.asarray(samples1)\n",
    "samples1_arr = samples1_arr.reshape(samples1_arr.shape[0],2)\n",
    "\n",
    "samples2_arr = np.asarray(samples2)\n",
    "samples2_arr = samples2_arr.reshape(samples2_arr.shape[0],2)"
   ]
  },
  {
   "cell_type": "code",
   "execution_count": 142,
   "id": "b9ca619d-8a52-48b9-a9cb-506432029c0c",
   "metadata": {},
   "outputs": [
    {
     "data": {
      "text/plain": [
       "<matplotlib.collections.PathCollection at 0x7f4f43bf2eb0>"
      ]
     },
     "execution_count": 142,
     "metadata": {},
     "output_type": "execute_result"
    },
    {
     "data": {
      "image/png": "[encoded data removed]",
      "text/plain": [
       "<Figure size 432x288 with 1 Axes>"
      ]
     },
     "metadata": {
      "needs_background": "light"
     },
     "output_type": "display_data"
    }
   ],
   "source": [
    "plt.scatter(x=samples1_arr[:,0], y=samples1_arr[:,1])\n",
    "plt.scatter(x=samples2_arr[:,0], y=samples2_arr[:,1])\n",
    "\n"
   ]
  },
  {
   "cell_type": "code",
   "execution_count": 143,
   "id": "720fe43e-c84a-49d0-a55e-0b746104446c",
   "metadata": {},
   "outputs": [],
   "source": [
    "A1_gt = a1*b1\n",
    "A2_gt = a2*b2"
   ]
  },
  {
   "cell_type": "code",
   "execution_count": 144,
   "id": "1c3b03ed-5aa4-4313-864c-bffb2486a522",
   "metadata": {},
   "outputs": [
    {
     "name": "stdout",
     "output_type": "stream",
     "text": [
      "0.8643944157464125\n",
      "6\n",
      "0.13560558425358754\n",
      "1\n"
     ]
    }
   ],
   "source": [
    "print(A1/(A1+A2))\n",
    "print(A1_gt)\n",
    "print(A2/(A1+A2))\n",
    "print(A2_gt)"
   ]
  },
  {
   "cell_type": "code",
   "execution_count": 145,
   "id": "0f6edd84-5d42-4c8d-a6d6-334f10f1d8d5",
   "metadata": {},
   "outputs": [
    {
     "data": {
      "text/plain": [
       "0.13560558425358754"
      ]
     },
     "execution_count": 145,
     "metadata": {},
     "output_type": "execute_result"
    }
   ],
   "source": [
    "A2/A_total"
   ]
  },
  {
   "cell_type": "code",
   "execution_count": 146,
   "id": "1ad0c05f-e2be-4ece-b454-8c7f53a4da41",
   "metadata": {},
   "outputs": [
    {
     "name": "stdout",
     "output_type": "stream",
     "text": [
      "144282.0\n",
      "134308.0\n"
     ]
    }
   ],
   "source": [
    "print(n1/A1_gt)\n",
    "print(n2/A2_gt)\n"
   ]
  },
  {
   "cell_type": "code",
   "execution_count": 124,
   "id": "e714bd02-4970-4752-8444-b3c1671293f1",
   "metadata": {},
   "outputs": [
    {
     "ename": "SyntaxError",
     "evalue": "EOL while scanning string literal (<ipython-input-124-76bf7fde9871>, line 2)",
     "output_type": "error",
     "traceback": [
      "\u001b[0;36m  File \u001b[0;32m\"<ipython-input-124-76bf7fde9871>\"\u001b[0;36m, line \u001b[0;32m2\u001b[0m\n\u001b[0;31m    d2 = A2_gt/n\"1\u001b[0m\n\u001b[0m                  ^\u001b[0m\n\u001b[0;31mSyntaxError\u001b[0m\u001b[0;31m:\u001b[0m EOL while scanning string literal\n"
     ]
    }
   ],
   "source": [
    "d1 = A1_gt/n1\n",
    "d2 = A2_gt/n\"1"
   ]
  },
  {
   "cell_type": "code",
   "execution_count": 57,
   "id": "bc683592-eb9a-4d8f-b4d0-7fb5839c9afb",
   "metadata": {},
   "outputs": [],
   "source": [
    "#https://stats.stackexchange.com/questions/26123/efficient-method-technique-to-update-covariance-matrix"
   ]
  },
  {
   "cell_type": "code",
   "execution_count": 139,
   "id": "1ebfc6bf-43ea-46c7-a805-b637800bb66b",
   "metadata": {},
   "outputs": [
    {
     "data": {
      "text/plain": [
       "283781"
      ]
     },
     "execution_count": 139,
     "metadata": {},
     "output_type": "execute_result"
    }
   ],
   "source": [
    "n2"
   ]
  },
  {
   "cell_type": "code",
   "execution_count": 98,
   "id": "d1a8b8fa-05b1-4cc4-9748-5ff7a09e2f6c",
   "metadata": {},
   "outputs": [
    {
     "data": {
      "text/plain": [
       "1"
      ]
     },
     "execution_count": 98,
     "metadata": {},
     "output_type": "execute_result"
    }
   ],
   "source": [
    "A2_gt"
   ]
  },
  {
   "cell_type": "code",
   "execution_count": null,
   "id": "98d2a78d-9adb-4254-936a-5a3af04dc930",
   "metadata": {},
   "outputs": [],
   "source": []
  }
 ],
 "metadata": {
  "kernelspec": {
   "display_name": "Python 3",
   "language": "python",
   "name": "python3"
  },
  "language_info": {
   "codemirror_mode": {
    "name": "ipython",
    "version": 3
   },
   "file_extension": ".py",
   "mimetype": "text/x-python",
   "name": "python",
   "nbconvert_exporter": "python",
   "pygments_lexer": "ipython3",
   "version": "3.8.5"
  }
 },
 "nbformat": 4,
 "nbformat_minor": 5
}
