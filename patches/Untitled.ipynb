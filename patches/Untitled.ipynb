{
 "cells": [
  {
   "cell_type": "code",
   "execution_count": 1,
   "id": "ac324166-87db-4394-bc72-7c51e390bcf7",
   "metadata": {},
   "outputs": [],
   "source": [
    "import numpy as np\n",
    "import matplotlib.pyplot as plt"
   ]
  },
  {
   "cell_type": "code",
   "execution_count": 2,
   "id": "a5457547-7722-46b6-b382-739d9ca0ebf0",
   "metadata": {},
   "outputs": [],
   "source": [
    "#edge length of rectangle\n",
    "a = 2\n",
    "b = 3"
   ]
  },
  {
   "cell_type": "code",
   "execution_count": 3,
   "id": "5a94de53-bc97-47ef-9ca0-a7a8783e4db2",
   "metadata": {},
   "outputs": [],
   "source": [
    "def sample_over_rect(a,b, times):\n",
    "    data = np.random.rand(2*times).reshape(times,2)\n",
    "    data[:,0] *= a\n",
    "    data[:,1] *= b\n",
    "    return data\n",
    "\n",
    "def size_from_data(data):\n",
    "    cov = np.diagonal(np.cov(data.T))\n",
    "    return np.sqrt(cov*12)\n",
    "\n",
    "def size_from_covariance(cov):\n",
    "    return np.sqrt(np.diagonal(cov)*12)\n",
    "\n",
    "def update_covariance(x, n, mean,cov):\n",
    "    x_mean = x-mean\n",
    "    return n/(1+n) * cov + (n / (1+n)**2) * x_mean.T@x_mean\n",
    "    \n",
    "def update_mean(x, n, mean=0):\n",
    "    return mean + ((x-mean)/(1+n))"
   ]
  },
  {
   "cell_type": "code",
   "execution_count": 4,
   "id": "4140feb6-f5c0-4ecf-b771-e232869c5b89",
   "metadata": {},
   "outputs": [],
   "source": [
    "theta = np.radians(30)\n",
    "c, s = np.cos(theta), np.sin(theta)\n",
    "R = np.array(((c, -s), (s, c)))"
   ]
  },
  {
   "cell_type": "code",
   "execution_count": 71,
   "id": "2e7f4392-3be8-4990-8680-b9e4b7d7d2f2",
   "metadata": {},
   "outputs": [],
   "source": [
    "n = 100000\n",
    "data = np.zeros(n*3).reshape(n,3)\n",
    "data[:,0] = np.random.rand(n)\n",
    "data[:,1] = np.random.rand(n)\n",
    "\n",
    "data_rot = data@R "
   ]
  },
  {
   "cell_type": "code",
   "execution_count": 70,
   "id": "ac7e6697-99dd-4b26-9018-64e47eaf6cb5",
   "metadata": {},
   "outputs": [],
   "source": [
    "from scipy.spatial.transform import Rotation \n",
    "r = Rotation.from_quat([0, 0, np.sin(np.pi/4), np.cos(np.pi/4)])\n",
    "\n",
    "R = r.as_matrix()\n"
   ]
  },
  {
   "cell_type": "code",
   "execution_count": 72,
   "id": "e502b775-9ffb-4294-88a4-aa8ad9671885",
   "metadata": {},
   "outputs": [
    {
     "name": "stdout",
     "output_type": "stream",
     "text": [
      "cov1 =  [[0.08339    0.00024145 0.        ]\n",
      " [0.00024145 0.08313928 0.        ]\n",
      " [0.         0.         0.        ]]\n",
      "cov2 =  [[ 0.08313928 -0.00024145  0.        ]\n",
      " [-0.00024145  0.08339     0.        ]\n",
      " [ 0.          0.          0.        ]]\n",
      "s1\n",
      "[1.00033993 0.998835   0.        ]\n",
      "s2\n",
      "[0.998835   1.00033993 0.        ]\n",
      "---\n"
     ]
    },
    {
     "data": {
      "text/plain": [
       "1.9991749323001908"
      ]
     },
     "execution_count": 72,
     "metadata": {},
     "output_type": "execute_result"
    }
   ],
   "source": [
    "cov1 = np.cov(data.T)\n",
    "print(\"cov1 = \", cov1)\n",
    "cov2 = np.cov(data_rot.T)\n",
    "print(\"cov2 = \", cov2)\n",
    "s1 = size_from_covariance(cov1)\n",
    "print(\"s1\")\n",
    "print(size_from_covariance(cov1))\n",
    "s2 = size_from_covariance(cov2)\n",
    "print(\"s2\")\n",
    "print(size_from_covariance(cov2))\n",
    "\n",
    "print(\"---\")\n",
    "\n",
    "\n",
    "s2.sum()"
   ]
  },
  {
   "cell_type": "code",
   "execution_count": 73,
   "id": "1e07c91e-7616-4fc9-ad8e-78d1c7ef043b",
   "metadata": {},
   "outputs": [
    {
     "name": "stdout",
     "output_type": "stream",
     "text": [
      "[0.08353669 0.08299259 0.        ]\n",
      "[0.08299259 0.08353669 0.        ]\n"
     ]
    }
   ],
   "source": [
    "eigvals1, eigvecs1  = np.linalg.eig(cov1)\n",
    "eigvals2, eigvecs2  = np.linalg.eig(cov2)\n",
    "print(eigvals1)\n",
    "print(eigvals2)"
   ]
  },
  {
   "cell_type": "code",
   "execution_count": 68,
   "id": "8634d064-76dd-4218-be3b-dc55a1251816",
   "metadata": {},
   "outputs": [
    {
     "data": {
      "text/plain": [
       "0.08330813694385122"
      ]
     },
     "execution_count": 68,
     "metadata": {},
     "output_type": "execute_result"
    }
   ],
   "source": []
  },
  {
   "cell_type": "code",
   "execution_count": 59,
   "id": "5458f5e0-0410-4931-b6e9-32ae3d82f67c",
   "metadata": {},
   "outputs": [
    {
     "data": {
      "text/plain": [
       "<matplotlib.collections.PathCollection at 0x7f1061b87280>"
      ]
     },
     "execution_count": 59,
     "metadata": {},
     "output_type": "execute_result"
    },
    {
     "data": {
      "image/png": "[encoded data removed]",
      "text/plain": [
       "<Figure size 432x288 with 1 Axes>"
      ]
     },
     "metadata": {
      "needs_background": "light"
     },
     "output_type": "display_data"
    }
   ],
   "source": [
    "plt.scatter(data_rot[:,0], data_rot[:,1])"
   ]
  },
  {
   "cell_type": "code",
   "execution_count": null,
   "id": "57c21ab7-20ff-4790-992a-359298f3dc16",
   "metadata": {},
   "outputs": [],
   "source": []
  },
  {
   "cell_type": "code",
   "execution_count": 60,
   "id": "7ab3d5f3-752b-49d0-b814-9a9104c2132a",
   "metadata": {},
   "outputs": [
    {
     "data": {
      "text/plain": [
       "0.08327149200195655"
      ]
     },
     "execution_count": 60,
     "metadata": {},
     "output_type": "execute_result"
    }
   ],
   "source": [
    "eigvals[0]"
   ]
  },
  {
   "cell_type": "code",
   "execution_count": 17,
   "id": "fceb8187-d20a-4186-9a22-cc55c1bc8884",
   "metadata": {},
   "outputs": [
    {
     "data": {
      "text/plain": [
       "array([[0.66666667, 0.        ],\n",
       "       [0.        , 0.66666667]])"
      ]
     },
     "execution_count": 17,
     "metadata": {},
     "output_type": "execute_result"
    }
   ],
   "source": [
    "update_covariance(np.array([1,2]), 2, np.array([1,2]), np.identity(2))"
   ]
  },
  {
   "cell_type": "code",
   "execution_count": 8,
   "id": "f49474f0-e998-4440-abe3-8beea62c57ab",
   "metadata": {},
   "outputs": [
    {
     "data": {
      "text/plain": [
       "array([2.00568935, 3.01980298])"
      ]
     },
     "execution_count": 8,
     "metadata": {},
     "output_type": "execute_result"
    }
   ],
   "source": [
    "\n",
    "samples = sample_over_rect(a,b,10000)\n",
    "\n",
    "size_from_variance(samples)\n"
   ]
  },
  {
   "cell_type": "code",
   "execution_count": 58,
   "id": "4765ea56-facd-428b-bdfd-5d5a0a04f9f5",
   "metadata": {},
   "outputs": [],
   "source": []
  },
  {
   "cell_type": "code",
   "execution_count": 19,
   "id": "04b6c799-1bb0-441f-ad70-0d91f7f86661",
   "metadata": {},
   "outputs": [],
   "source": [
    "# normalize over current 1/density\n",
    "\n",
    "a1, b1 = 2, 3\n",
    "a2, b2 = 1, 1\n",
    "\n",
    "n = 1000000\n",
    "\n",
    "def update_rect(a,b,sample,n,mean,cov):\n",
    "    sample = sample_over_rect(a,b,n)\n",
    "    mean = update_mean(sample, n, mean)\n",
    "    cov = update_covariance(sample,n, mean, cov)\n",
    "    n += 1\n",
    "    return mean, cov, n\n",
    "\n",
    "\n",
    "mean1 = np.array([0,0])\n",
    "mean2 = np.array([0,0])\n",
    "cov1 = np.zeros(4).reshape(2,2)\n",
    "cov2 = np.zeros(4).reshape(2,2)\n",
    "n1 = 0\n",
    "n2 = 0\n",
    "samples1 = []\n",
    "samples2 = []\n",
    "A1 = 0\n",
    "A2 = 0\n",
    "for i in range(n):\n",
    "    A1 = size_from_covariance(cov1).prod()\n",
    "    A2 = size_from_covariance(cov2).prod()  \n",
    "    A_total = A1 + A2\n",
    "    if A_total == 0:\n",
    "        if np.random.rand() > 0.5:\n",
    "            sample = sample_over_rect(a1,b1,1)\n",
    "            sample = sample@R\n",
    "            mean1 = update_mean(sample, n1, mean1)\n",
    "            cov1 = update_covariance(sample,n1, mean1, cov1)\n",
    "            n1 += 1\n",
    "            samples1.append(sample)\n",
    "        else:\n",
    "            sample = sample_over_rect(a2,b2,1)\n",
    "            mean2 = update_mean(sample, n2, mean2) \n",
    "            cov2 = update_covariance(sample, n2, mean2, cov2)\n",
    "            samples2.append(sample)\n",
    "            n2 += 1\n",
    "    else:\n",
    "        if A1 ==  A_total:\n",
    "            sample = sample_over_rect(a2,b2,1)\n",
    "            mean2 = update_mean(sample, n2, mean2) \n",
    "            cov2 = update_covariance(sample, n2, mean2, cov2)\n",
    "            n2 += 1\n",
    "            samples2.append(sample)\n",
    "\n",
    "        elif A2 == A_total:  \n",
    "            sample = sample_over_rect(a1,b1,1)\n",
    "            sample = sample@R\n",
    "            mean1 = update_mean(sample, n1, mean1)\n",
    "            cov1 = update_covariance(sample,n1, mean1, cov1)\n",
    "            n1 += 1\n",
    "            samples1.append(sample)\n",
    "\n",
    "            \n",
    "        elif np.random.rand() < A1 / A_total:\n",
    "            sample = sample_over_rect(a1,b1,1)\n",
    "            sample = sample@R\n",
    "            mean1 = update_mean(sample, n1, mean1)\n",
    "            cov1 = update_covariance(sample,n1, mean1, cov1)\n",
    "            n1 += 1\n",
    "            samples1.append(sample)\n",
    "\n",
    "        else:\n",
    "            sample = sample_over_rect(a2,b2,1)\n",
    "            mean2 = update_mean(sample, n2, mean2) \n",
    "            cov2 = update_covariance(sample, n2, mean2, cov2)\n",
    "            n2 += 1\n",
    "            samples2.append(sample)\n",
    "            \n",
    "            "
   ]
  },
  {
   "cell_type": "code",
   "execution_count": 126,
   "id": "b325e293-f58d-4285-9ec3-b2149b1227ae",
   "metadata": {},
   "outputs": [],
   "source": [
    "# normalize over current 1/density\n",
    "\n",
    "a1, b1 = 2, 3\n",
    "a2, b2 = 1, 1\n",
    "\n",
    "n = 1000000\n",
    "\n",
    "def update_rect(a,b,sample,n,mean,cov):\n",
    "    sample = sample_over_rect(a,b,n)\n",
    "    mean = update_mean(sample, n, mean)\n",
    "    cov = update_covariance(sample,n, mean, cov)\n",
    "    n += 1\n",
    "    return mean, cov, n\n",
    "\n",
    "\n",
    "mean1 = np.array([0,0])\n",
    "mean2 = np.array([0,0])\n",
    "cov1 = np.zeros(4).reshape(2,2)\n",
    "cov2 = np.zeros(4).reshape(2,2)\n",
    "n1 = 0\n",
    "n2 = 0\n",
    "samples1 = []\n",
    "samples2 = []\n",
    "A1 = 0\n",
    "A2 = 0\n",
    "for i in range(n):\n",
    "    if n1 != 0:\n",
    "        A1 = size_from_covariance(cov1).prod()/n1\n",
    "    if n2 != 0:\n",
    "        A2 = size_from_covariance(cov2).prod()/n2\n",
    "    A_total = A1 + A2\n",
    "    if A_total == 0:\n",
    "        if np.random.rand() > 0.5:\n",
    "            sample = sample_over_rect(a1,b1,1)\n",
    "            sample = sample@R\n",
    "            mean1 = update_mean(sample, n1, mean1)\n",
    "            cov1 = update_covariance(sample,n1, mean1, cov1)\n",
    "            n1 += 1\n",
    "            samples1.append(sample)\n",
    "        else:\n",
    "            sample = sample_over_rect(a2,b2,1)\n",
    "            mean2 = update_mean(sample, n2, mean2) \n",
    "            cov2 = update_covariance(sample, n2, mean2, cov2)\n",
    "            samples2.append(sample)\n",
    "            n2 += 1\n",
    "    else:\n",
    "        if A1 ==  A_total:\n",
    "            sample = sample_over_rect(a2,b2,1)\n",
    "            mean2 = update_mean(sample, n2, mean2) \n",
    "            cov2 = update_covariance(sample, n2, mean2, cov2)\n",
    "            n2 += 1\n",
    "            samples2.append(sample)\n",
    "\n",
    "        elif A2 == A_total:  \n",
    "            sample = sample_over_rect(a1,b1,1)\n",
    "            sample = sample@R\n",
    "            mean1 = update_mean(sample, n1, mean1)\n",
    "            cov1 = update_covariance(sample,n1, mean1, cov1)\n",
    "            n1 += 1\n",
    "            samples1.append(sample)\n",
    "\n",
    "            \n",
    "        elif np.random.rand() < (A1 / A_total):\n",
    "            sample = sample_over_rect(a1,b1,1)\n",
    "            sample = sample@R\n",
    "            mean1 = update_mean(sample, n1, mean1)\n",
    "            cov1 = update_covariance(sample,n1, mean1, cov1)\n",
    "            n1 += 1\n",
    "            samples1.append(sample)\n",
    "\n",
    "        else:\n",
    "            sample = sample_over_rect(a2,b2,1)\n",
    "            mean2 = update_mean(sample, n2, mean2) \n",
    "            cov2 = update_covariance(sample, n2, mean2, cov2)\n",
    "            n2 += 1\n",
    "            samples2.append(sample)\n",
    "            \n",
    "            "
   ]
  },
  {
   "cell_type": "code",
   "execution_count": 20,
   "id": "b75e01db-162a-4126-a637-5d6fbf96c06d",
   "metadata": {},
   "outputs": [],
   "source": [
    "samples1_arr = np.asarray(samples1)\n",
    "samples1_arr = samples1_arr.reshape(samples1_arr.shape[0],2)\n",
    "\n",
    "samples2_arr = np.asarray(samples2)\n",
    "samples2_arr = samples2_arr.reshape(samples2_arr.shape[0],2)"
   ]
  },
  {
   "cell_type": "code",
   "execution_count": 21,
   "id": "b9ca619d-8a52-48b9-a9cb-506432029c0c",
   "metadata": {},
   "outputs": [
    {
     "data": {
      "text/plain": [
       "<matplotlib.collections.PathCollection at 0x7f1061cb0d60>"
      ]
     },
     "execution_count": 21,
     "metadata": {},
     "output_type": "execute_result"
    },
    {
     "data": {
      "image/png": "[encoded data removed]",
      "text/plain": [
       "<Figure size 432x288 with 1 Axes>"
      ]
     },
     "metadata": {
      "needs_background": "light"
     },
     "output_type": "display_data"
    }
   ],
   "source": [
    "plt.scatter(x=samples1_arr[:,0], y=samples1_arr[:,1])\n",
    "plt.scatter(x=samples2_arr[:,0], y=samples2_arr[:,1])\n",
    "\n"
   ]
  },
  {
   "cell_type": "code",
   "execution_count": null,
   "id": "280685f6-e022-412c-b121-80bf391e6ad0",
   "metadata": {},
   "outputs": [],
   "source": []
  },
  {
   "cell_type": "code",
   "execution_count": 42,
   "id": "720fe43e-c84a-49d0-a55e-0b746104446c",
   "metadata": {},
   "outputs": [],
   "source": [
    "A1_gt = a1*b1\n",
    "A2_gt = a2*b2"
   ]
  },
  {
   "cell_type": "code",
   "execution_count": 144,
   "id": "1c3b03ed-5aa4-4313-864c-bffb2486a522",
   "metadata": {},
   "outputs": [
    {
     "name": "stdout",
     "output_type": "stream",
     "text": [
      "0.8643944157464125\n",
      "6\n",
      "0.13560558425358754\n",
      "1\n"
     ]
    }
   ],
   "source": [
    "print(A1/(A1+A2))\n",
    "print(A1_gt)\n",
    "print(A2/(A1+A2))\n",
    "print(A2_gt)"
   ]
  },
  {
   "cell_type": "code",
   "execution_count": 145,
   "id": "0f6edd84-5d42-4c8d-a6d6-334f10f1d8d5",
   "metadata": {},
   "outputs": [
    {
     "data": {
      "text/plain": [
       "0.13560558425358754"
      ]
     },
     "execution_count": 145,
     "metadata": {},
     "output_type": "execute_result"
    }
   ],
   "source": [
    "A2/A_total"
   ]
  },
  {
   "cell_type": "code",
   "execution_count": 146,
   "id": "1ad0c05f-e2be-4ece-b454-8c7f53a4da41",
   "metadata": {},
   "outputs": [
    {
     "name": "stdout",
     "output_type": "stream",
     "text": [
      "144282.0\n",
      "134308.0\n"
     ]
    }
   ],
   "source": [
    "print(n1/A1_gt)\n",
    "print(n2/A2_gt)\n"
   ]
  },
  {
   "cell_type": "code",
   "execution_count": 124,
   "id": "e714bd02-4970-4752-8444-b3c1671293f1",
   "metadata": {},
   "outputs": [
    {
     "ename": "SyntaxError",
     "evalue": "EOL while scanning string literal (<ipython-input-124-76bf7fde9871>, line 2)",
     "output_type": "error",
     "traceback": [
      "\u001b[0;36m  File \u001b[0;32m\"<ipython-input-124-76bf7fde9871>\"\u001b[0;36m, line \u001b[0;32m2\u001b[0m\n\u001b[0;31m    d2 = A2_gt/n\"1\u001b[0m\n\u001b[0m                  ^\u001b[0m\n\u001b[0;31mSyntaxError\u001b[0m\u001b[0;31m:\u001b[0m EOL while scanning string literal\n"
     ]
    }
   ],
   "source": [
    "d1 = A1_gt/n1\n",
    "d2 = A2_gt/n\"1"
   ]
  },
  {
   "cell_type": "code",
   "execution_count": 57,
   "id": "bc683592-eb9a-4d8f-b4d0-7fb5839c9afb",
   "metadata": {},
   "outputs": [],
   "source": [
    "#https://stats.stackexchange.com/questions/26123/efficient-method-technique-to-update-covariance-matrix"
   ]
  },
  {
   "cell_type": "code",
   "execution_count": 139,
   "id": "1ebfc6bf-43ea-46c7-a805-b637800bb66b",
   "metadata": {},
   "outputs": [
    {
     "data": {
      "text/plain": [
       "283781"
      ]
     },
     "execution_count": 139,
     "metadata": {},
     "output_type": "execute_result"
    }
   ],
   "source": [
    "n2"
   ]
  },
  {
   "cell_type": "code",
   "execution_count": 98,
   "id": "d1a8b8fa-05b1-4cc4-9748-5ff7a09e2f6c",
   "metadata": {},
   "outputs": [
    {
     "data": {
      "text/plain": [
       "1"
      ]
     },
     "execution_count": 98,
     "metadata": {},
     "output_type": "execute_result"
    }
   ],
   "source": [
    "A2_gt"
   ]
  },
  {
   "cell_type": "code",
   "execution_count": 22,
   "id": "98d2a78d-9adb-4254-936a-5a3af04dc930",
   "metadata": {},
   "outputs": [
    {
     "data": {
      "text/plain": [
       "array([[0.43728505, 0.18023768],\n",
       "       [0.18023768, 0.64523037]])"
      ]
     },
     "execution_count": 22,
     "metadata": {},
     "output_type": "execute_result"
    }
   ],
   "source": [
    "cov1"
   ]
  },
  {
   "cell_type": "code",
   "execution_count": 23,
   "id": "9b66881a-cc6c-4641-b927-03d542b86e50",
   "metadata": {},
   "outputs": [
    {
     "data": {
      "text/plain": [
       "array([[0.08357031, 0.00013338],\n",
       "       [0.00013338, 0.083533  ]])"
      ]
     },
     "execution_count": 23,
     "metadata": {},
     "output_type": "execute_result"
    }
   ],
   "source": [
    "cov2"
   ]
  },
  {
   "cell_type": "code",
   "execution_count": 24,
   "id": "43fadf2f-9cfc-414f-be76-7cdba59d4e9a",
   "metadata": {},
   "outputs": [
    {
     "data": {
      "text/plain": [
       "0.16710331275077292"
      ]
     },
     "execution_count": 24,
     "metadata": {},
     "output_type": "execute_result"
    }
   ],
   "source": [
    "np.trace(cov2)"
   ]
  },
  {
   "cell_type": "code",
   "execution_count": 25,
   "id": "e71ca23c-c8a5-4d18-a653-fff1c47a2403",
   "metadata": {},
   "outputs": [
    {
     "data": {
      "text/plain": [
       "1.082515417658517"
      ]
     },
     "execution_count": 25,
     "metadata": {},
     "output_type": "execute_result"
    }
   ],
   "source": [
    "np.trace(cov1)"
   ]
  },
  {
   "cell_type": "code",
   "execution_count": 34,
   "id": "efe60679-0a75-45a1-9e45-8209c50b415a",
   "metadata": {},
   "outputs": [
    {
     "data": {
      "text/plain": [
       "array([2.2907249 , 2.78258233])"
      ]
     },
     "execution_count": 34,
     "metadata": {},
     "output_type": "execute_result"
    }
   ],
   "source": [
    "size_from_covariance(cov1)"
   ]
  },
  {
   "cell_type": "code",
   "execution_count": 32,
   "id": "6e0add8e-cf9d-4d5d-bd3b-bc48b7520da6",
   "metadata": {},
   "outputs": [
    {
     "data": {
      "text/plain": [
       "2.0026181503284253"
      ]
     },
     "execution_count": 32,
     "metadata": {},
     "output_type": "execute_result"
    }
   ],
   "source": [
    "size_from_covariance(cov2).sum()"
   ]
  },
  {
   "cell_type": "code",
   "execution_count": 38,
   "id": "0cb687c6-59db-4079-94f5-1fbdb66c0cb6",
   "metadata": {},
   "outputs": [],
   "source": [
    "s1 = np.sqrt(np.trace(cov1))*12\n",
    "s2 = np.sqrt(np.trace(cov2))*12"
   ]
  },
  {
   "cell_type": "code",
   "execution_count": 39,
   "id": "676fba9c-629a-4f9b-9ac1-842afc6cdc88",
   "metadata": {},
   "outputs": [
    {
     "data": {
      "text/plain": [
       "0.392894079588551"
      ]
     },
     "execution_count": 39,
     "metadata": {},
     "output_type": "execute_result"
    }
   ],
   "source": [
    "s2/s1"
   ]
  },
  {
   "cell_type": "code",
   "execution_count": 40,
   "id": "6b6664ec-dbab-4949-90fc-3f1d1cec33bd",
   "metadata": {},
   "outputs": [
    {
     "data": {
      "text/plain": [
       "2.545215242355462"
      ]
     },
     "execution_count": 40,
     "metadata": {},
     "output_type": "execute_result"
    }
   ],
   "source": [
    "s1/s2"
   ]
  },
  {
   "cell_type": "code",
   "execution_count": 41,
   "id": "efb1a615-a3ab-45b9-b415-dbb8a6f76338",
   "metadata": {},
   "outputs": [
    {
     "ename": "NameError",
     "evalue": "name 'A2_gt' is not defined",
     "output_type": "error",
     "traceback": [
      "\u001b[0;31m---------------------------------------------------------------------------\u001b[0m",
      "\u001b[0;31mNameError\u001b[0m                                 Traceback (most recent call last)",
      "\u001b[0;32m<ipython-input-41-77b7f758d288>\u001b[0m in \u001b[0;36m<module>\u001b[0;34m\u001b[0m\n\u001b[0;32m----> 1\u001b[0;31m \u001b[0mA2_gt\u001b[0m\u001b[0;34m\u001b[0m\u001b[0;34m\u001b[0m\u001b[0m\n\u001b[0m",
      "\u001b[0;31mNameError\u001b[0m: name 'A2_gt' is not defined"
     ]
    }
   ],
   "source": [
    "A2_gt"
   ]
  },
  {
   "cell_type": "code",
   "execution_count": 43,
   "id": "0181b4b3-9a69-4292-8a66-95bea00d5bfc",
   "metadata": {},
   "outputs": [
    {
     "data": {
      "text/plain": [
       "6.0"
      ]
     },
     "execution_count": 43,
     "metadata": {},
     "output_type": "execute_result"
    }
   ],
   "source": [
    "A1_gt / A2_gt"
   ]
  },
  {
   "cell_type": "code",
   "execution_count": 44,
   "id": "a57612ca-8423-41ff-8a7a-e072a4a2f272",
   "metadata": {},
   "outputs": [
    {
     "data": {
      "text/plain": [
       "(array([0.33318096, 0.74933446]),\n",
       " array([[-0.86593423, -0.50015789],\n",
       "        [ 0.50015789, -0.86593423]]))"
      ]
     },
     "execution_count": 44,
     "metadata": {},
     "output_type": "execute_result"
    }
   ],
   "source": [
    "np.linalg.eig(cov1)"
   ]
  },
  {
   "cell_type": "code",
   "execution_count": null,
   "id": "716cfce8-6f2d-43dd-b0a5-d39a0e346153",
   "metadata": {},
   "outputs": [],
   "source": []
  }
 ],
 "metadata": {
  "kernelspec": {
   "display_name": "Python 3",
   "language": "python",
   "name": "python3"
  },
  "language_info": {
   "codemirror_mode": {
    "name": "ipython",
    "version": 3
   },
   "file_extension": ".py",
   "mimetype": "text/x-python",
   "name": "python",
   "nbconvert_exporter": "python",
   "pygments_lexer": "ipython3",
   "version": "3.8.5"
  }
 },
 "nbformat": 4,
 "nbformat_minor": 5
}
