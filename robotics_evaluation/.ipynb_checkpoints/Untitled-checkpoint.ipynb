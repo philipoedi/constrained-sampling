{
 "cells": [
  {
   "cell_type": "code",
   "execution_count": 1,
   "id": "3a55f195-3a21-4c4b-b304-1aa12069ffbe",
   "metadata": {},
   "outputs": [],
   "source": [
    "import glob\n",
    "import numpy as np\n",
    "#from sklearn.cluster import AgglomerativeClustering\n",
    "from KDEpy import TreeKDE\n"
   ]
  },
  {
   "cell_type": "code",
   "execution_count": 2,
   "id": "a17e3e80-d222-4308-a96a-c789d750ddf7",
   "metadata": {},
   "outputs": [],
   "source": [
    "def load_data(files):\n",
    "    data = np.array((1,7))\n",
    "    for f in files:\n",
    "        loaded = np.loadtxt(f)\n",
    "        try:\n",
    "            data = np.vstack((loaded,data))\n",
    "        except:\n",
    "            data = loaded\n",
    "    return data"
   ]
  },
  {
   "cell_type": "code",
   "execution_count": 68,
   "id": "75d6d53d-f19c-4291-a786-75469d1195e1",
   "metadata": {},
   "outputs": [
    {
     "name": "stdout",
     "output_type": "stream",
     "text": [
      "starting 7dof/202201301523_uniform_biased_RRT_biasedfilter\n",
      "finished 7dof/202201301523_uniform_biased_RRT_biasedfilter\n",
      "starting 7dof/202201301526_uniform_biased_grid-walk_biased_probs.dat\n",
      "finished 7dof/202201301526_uniform_biased_grid-walk_biased_probs.dat\n",
      "starting 7dof/202201301526_uniform_biased_grid-walk_biased\n",
      "finished 7dof/202201301526_uniform_biased_grid-walk_biased\n",
      "starting 7dof/202201301524_uniform_biased_grid-walk_biasedfilter\n",
      "finished 7dof/202201301524_uniform_biased_grid-walk_biasedfilter\n",
      "starting 7dof/202201301525_uniform_biased_RRT_biased\n",
      "finished 7dof/202201301525_uniform_biased_RRT_biased\n",
      "starting 7dof/202201301523_uniform_biased_RRT_biasedfilter_probs.dat\n",
      "finished 7dof/202201301523_uniform_biased_RRT_biasedfilter_probs.dat\n",
      "starting 7dof/202201300019_uniform_biased__\n",
      "finished 7dof/202201300019_uniform_biased__\n"
     ]
    }
   ],
   "source": [
    "# 3d0f: bw=0.15\n",
    "# 7dof: bw=0.25\n",
    "# folders 3dof and 7 dof\n",
    "\n",
    "def eval_kde(folder, bw):\n",
    "    experiments = glob.glob(f\"{folder}/*\")\n",
    "    for e in experiments:\n",
    "        files = glob.glob(f\"{e}/*local*samples*\")\n",
    "        data = load_data(files)\n",
    "        bw = 0.15\n",
    "        print(f\"starting {e}\")\n",
    "        kde = TreeKDE(kernel=\"epa\",bw=bw).fit(data).evaluate(data)\n",
    "        print(f\"finished {e}\")\n",
    "        np.savetxt(f\"{e}_probs.dat\",kde,fmt='%f')\n",
    "        \n",
    "eval_kde(\"7dof\",0.25)\n",
    "#eval_kde(\"3dof\",0.15)"
   ]
  },
  {
   "cell_type": "code",
   "execution_count": 59,
   "id": "79a72e7b-8d5e-46a5-b77f-7ef966f4d1d0",
   "metadata": {},
   "outputs": [
    {
     "data": {
      "text/plain": [
       "array([0.75, 0.5 , 0.  , 0.75, 0.  , 1.  , 0.75, 0.25, 0.75, 0.25])"
      ]
     },
     "execution_count": 59,
     "metadata": {},
     "output_type": "execute_result"
    }
   ],
   "source": [
    "def round_to_multiple(number, multiple):\n",
    "    return multiple * np.round(number / multiple)\n",
    "\n",
    "round_to_multiple(np.random.rand(10), 0.25)"
   ]
  },
  {
   "cell_type": "code",
   "execution_count": 69,
   "id": "0aa69d73-77e7-4deb-83fb-32ff81ae2f9e",
   "metadata": {},
   "outputs": [
    {
     "name": "stdout",
     "output_type": "stream",
     "text": [
      "0\n",
      "7.367134094238281e-05\n",
      "1000\n",
      "9.967713594436646\n",
      "2000\n",
      "9.980127096176147\n",
      "3000\n",
      "11.669609546661377\n",
      "4000\n",
      "11.666468620300293\n",
      "5000\n",
      "11.685855388641357\n",
      "6000\n",
      "11.781683444976807\n",
      "7000\n",
      "10.786778926849365\n",
      "8000\n",
      "13.112400770187378\n",
      "9000\n",
      "12.537040948867798\n",
      "10000\n",
      "13.066091537475586\n",
      "11000\n",
      "12.802733898162842\n",
      "12000\n",
      "12.130298614501953\n",
      "13000\n",
      "11.696110725402832\n",
      "14000\n",
      "12.665991067886353\n",
      "15000\n",
      "12.399133205413818\n",
      "16000\n",
      "11.969981908798218\n",
      "17000\n",
      "11.808428287506104\n",
      "18000\n",
      "11.802459239959717\n",
      "19000\n",
      "10.166584014892578\n",
      "20000\n",
      "10.142338037490845\n",
      "21000\n",
      "11.154276371002197\n",
      "22000\n",
      "11.958952903747559\n",
      "23000\n",
      "10.171224117279053\n",
      "24000\n",
      "11.51045298576355\n",
      "25000\n",
      "11.610699653625488\n",
      "26000\n",
      "13.177173137664795\n",
      "27000\n",
      "12.81251049041748\n",
      "28000\n",
      "14.477643966674805\n",
      "29000\n",
      "12.424213409423828\n",
      "30000\n",
      "13.389336585998535\n",
      "31000\n",
      "12.773931503295898\n",
      "32000\n",
      "13.29378628730774\n",
      "33000\n",
      "12.007633686065674\n",
      "34000\n",
      "11.850158214569092\n",
      "35000\n",
      "11.386029243469238\n",
      "36000\n",
      "10.423594951629639\n",
      "37000\n",
      "11.740482568740845\n",
      "38000\n",
      "10.797422647476196\n",
      "39000\n",
      "11.845501899719238\n",
      "40000\n",
      "12.137707233428955\n",
      "41000\n",
      "13.400614500045776\n",
      "42000\n",
      "12.080585956573486\n",
      "43000\n",
      "11.59777569770813\n",
      "44000\n",
      "10.836865663528442\n",
      "45000\n",
      "13.147620439529419\n",
      "46000\n",
      "12.46837854385376\n",
      "47000\n",
      "13.022663593292236\n",
      "48000\n",
      "13.921376466751099\n",
      "49000\n",
      "12.53773546218872\n",
      "50000\n",
      "12.599712610244751\n",
      "51000\n",
      "11.896754026412964\n",
      "52000\n",
      "12.397370338439941\n",
      "53000\n",
      "11.892934083938599\n",
      "54000\n",
      "11.65954875946045\n",
      "55000\n",
      "10.47504734992981\n",
      "56000\n",
      "11.852991819381714\n",
      "57000\n",
      "12.098965167999268\n",
      "58000\n",
      "12.29695725440979\n",
      "59000\n",
      "12.205236911773682\n",
      "60000\n",
      "12.126676321029663\n",
      "61000\n",
      "12.249468803405762\n",
      "62000\n",
      "12.368289947509766\n",
      "63000\n",
      "11.874403238296509\n",
      "64000\n",
      "10.647865056991577\n",
      "65000\n",
      "11.559874534606934\n",
      "66000\n",
      "11.310438394546509\n",
      "67000\n",
      "11.998342990875244\n",
      "68000\n",
      "10.407428741455078\n",
      "69000\n",
      "11.73331618309021\n",
      "70000\n",
      "11.90382432937622\n",
      "71000\n",
      "10.994865417480469\n",
      "72000\n",
      "11.361176490783691\n",
      "73000\n",
      "10.681995153427124\n",
      "74000\n",
      "11.167466640472412\n",
      "75000\n",
      "10.301007747650146\n",
      "76000\n",
      "11.053046703338623\n",
      "77000\n",
      "10.797374963760376\n",
      "78000\n",
      "11.28000545501709\n",
      "79000\n",
      "12.087972164154053\n",
      "80000\n",
      "10.145806550979614\n",
      "81000\n",
      "10.11374831199646\n",
      "82000\n",
      "10.853688716888428\n",
      "83000\n",
      "11.844317197799683\n",
      "84000\n",
      "11.859772682189941\n",
      "85000\n",
      "12.143091440200806\n",
      "86000\n",
      "12.067476987838745\n",
      "87000\n",
      "11.981775760650635\n",
      "88000\n",
      "12.128102779388428\n",
      "89000\n",
      "10.162317514419556\n",
      "90000\n",
      "10.978077173233032\n",
      "91000\n",
      "12.057255506515503\n",
      "92000\n",
      "12.109158277511597\n",
      "93000\n",
      "11.839956760406494\n"
     ]
    }
   ],
   "source": [
    "from time import time\n",
    "\n",
    "def create_reference(folder, round_multiple):\n",
    "    experiments = glob.glob(f\"{folder}/*\")\n",
    "    uniques = np.array(1)\n",
    "    all_data = np.array(1)\n",
    "    for e in experiments:\n",
    "        files = glob.glob(f\"{e}/*local*samples*\")\n",
    "        data = load_data(files)\n",
    "        if len(data) == 2:\n",
    "            continue\n",
    "        rounded_current = round_to_multiple(data, round_multiple)\n",
    "        unis = np.unique(rounded_current,axis=0)\n",
    "        try:\n",
    "            uniques = np.unique(np.vstack((uniques,unis)),axis=0)\n",
    "        except:\n",
    "            uniques = unis\n",
    "        try:\n",
    "            all_data = np.vstack((all_data,data))\n",
    "            rounded = np.vstack((rounded,rounded_current))\n",
    "        except:\n",
    "            rounded = rounded_current\n",
    "            all_data = data\n",
    "    i = 0\n",
    "    ref = np.zeros(uniques.shape)\n",
    "    start = time()\n",
    "    print(\"uniques = \", len(uniques))\n",
    "    for u in uniques:\n",
    "        if i%1000 == 0:\n",
    "            print(i)\n",
    "            print(time() - start)\n",
    "            start = time()\n",
    "        not_rounded_select = all_data[np.all(np.equal(rounded,u),axis=1)]\n",
    "        l = len(not_rounded_select)\n",
    "        idx = np.random.randint(l)\n",
    "        ref[i,:] = not_rounded_select[idx]\n",
    "        i += 1\n",
    "    return ref\n",
    "\n",
    "#ref3 = create_reference(\"3dof\",0.0025)        \n",
    "ref7 = create_reference(\"7dof\",0.5)\n",
    "\n",
    "#np.savetxt(\"3dof_ref.dat\",ref3,fmt='%f')\n",
    "np.savetxt(\"7dof_ref.dat\",ref7,fmt='%f')\n",
    "\n"
   ]
  },
  {
   "cell_type": "code",
   "execution_count": 71,
   "id": "203f7e09-c5a8-4531-a1b3-43eaa52f61ec",
   "metadata": {},
   "outputs": [
    {
     "name": "stdout",
     "output_type": "stream",
     "text": [
      "-------------------------\n",
      "7dof/202201301525_uniform_biased_RRT_biased_probs.dat  =  1.2349234504426236\n",
      "7dof/202201301526_uniform_biased_grid-walk_biased_probs.dat  =  -0.4078969976705489\n",
      "7dof/202201301524_uniform_biased_grid-walk_biasedfilter_probs.dat  =  -0.4175484966972666\n",
      "7dof/202201300019_uniform_biased___probs.dat  =  3.668133656732075\n",
      "7dof/202201301523_uniform_biased_RRT_biasedfilter_probs.dat  =  1.408527220206098\n",
      "7dof/202201301526_uniform_biased_grid-walk_biased_probs.dat_probs.dat  =  -0.11157178571950474\n",
      "7dof/202201301523_uniform_biased_RRT_biasedfilter_probs.dat_probs.dat  =  -0.11157178571950474\n",
      "3dof/202201301428_uniform_biased__3dof_probs.dat  =  -0.10257800409105958\n",
      "3dof/202201301501_uniform_biased_grid-walk_biasedfilter3dof_probs.dat_probs.dat  =  -0.11157178571950474\n",
      "3dof/202201301501_uniform_biased_grid-walk_biased3dof_probs.dat_probs.dat  =  -0.11157178571950474\n",
      "3dof/202201301501_uniform_biased_RRT_biasedfilter3dof_probs.dat_probs.dat  =  -0.11157178571950474\n",
      "3dof/202201301501_uniform_biased_RRT_biased3dof_probs.dat  =  -0.28264940205123\n",
      "3dof/202201301501_uniform_biased_grid-walk_biasedfilter3dof_probs.dat  =  -0.18956203453097936\n",
      "3dof/202201301501_uniform_biased_RRT_biased3dof_probs.dat_probs.dat  =  -0.11157178571950474\n",
      "3dof/202201301501_uniform_biased_grid-walk_biased3dof_probs.dat  =  -0.11416479640732922\n",
      "3dof/202201301501_uniform_biased_RRT_biasedfilter3dof_probs.dat  =  -0.1131369117529891\n",
      "3dof/202201301428_uniform_biased__3dof_probs.dat_probs.dat  =  -0.11157178571950474\n"
     ]
    }
   ],
   "source": [
    "# experiment map\n",
    "\n",
    "exp_map = {\n",
    "    \"202201281145_uniform_biased_grid-walk_biased\": \"7dof-grid-walk-filter\",\n",
    "    \"202201281142_uniform_biased_RRT_biased\": \"7dof-rrt-filter\",\n",
    "    \"202201281142_uniform_biased_grid-walk_biased\" : \"7dof-grid-walk\",\n",
    "    \"202201281139_uniform_biased_RRT_biased\": \"7dof-rrt\",\n",
    "    \"202201281130_uniform_biased__\": \"7dof-iid\",\n",
    "    \"202201291326_uniform_biased_RRT_biased\": \"3dof-rrt-filter\",\n",
    "    \"202201291327_uniform_biased_grid-walk_biased\": \"3dof-grid-walk-filter\",\n",
    "    \"202201291330_uniform_biased_RRT_biased\": \"3dof-rrt\",\n",
    "    \"202201291331_uniform_biased__\": \"3dof-iid\",\n",
    "    \"202201291331_uniform_biased_grid-walk_biased\": \"3dof-grid-walk\"\n",
    "}\n",
    "\n",
    "\n",
    "remove = \"_probs.dat\"\n",
    "# entropy calculation\n",
    "prob_files = glob.glob(\"3dof/*probs*\")\n",
    "probs = {}\n",
    "\n",
    "def resub_entropy(data):\n",
    "    return -np.log(data).sum() / len(data)\n",
    "\n",
    "def get_name(exp_map, exper):\n",
    "    experiment = exper.replace(remove,\"\").split(\"/\")[-1]\n",
    "    return exp_map[experiment]\n",
    "\n",
    "# entropy calculation\n",
    "print(\"-------------------------\")\n",
    "prob_files = glob.glob(\"7dof/*probs*\")\n",
    "prob_files.extend(glob.glob(\"3dof/*probs*\"))\n",
    "probs = {}\n",
    "\n",
    "def resub_entropy(data):\n",
    "    return -np.log(data).sum() / len(data)\n",
    "\n",
    "for f in prob_files:\n",
    "    probs[f] = np.loadtxt(f)\n",
    "\n",
    "\n",
    "for k,v in probs.items():\n",
    "    try:\n",
    "        print(get_name(exp_map, k),\" = \", resub_entropy(v))\n",
    "    except:\n",
    "        print(k,\" = \", resub_entropy(v))\n",
    "        \n"
   ]
  },
  {
   "cell_type": "code",
   "execution_count": 72,
   "id": "c127ab42-4629-4e4c-b9d2-301752f75ca9",
   "metadata": {},
   "outputs": [
    {
     "name": "stdout",
     "output_type": "stream",
     "text": [
      "7dof/202201301525_uniform_biased_RRT_biased_probs.dat  =  0.02590368775889559\n",
      "7dof/202201301526_uniform_biased_grid-walk_biased_probs.dat  =  0.06435525311314051\n",
      "7dof/202201301524_uniform_biased_grid-walk_biasedfilter_probs.dat  =  0.06905784780062837\n",
      "7dof/202201300019_uniform_biased___probs.dat  =  7.77203528295663e-05\n",
      "7dof/202201301523_uniform_biased_RRT_biasedfilter_probs.dat  =  0.018213284391552745\n",
      "7dof/202201301526_uniform_biased_grid-walk_biased_probs.dat_probs.dat  =  0.0\n",
      "7dof/202201301523_uniform_biased_RRT_biasedfilter_probs.dat_probs.dat  =  0.0\n",
      "3dof/202201301428_uniform_biased__3dof_probs.dat  =  0.18186174834642574\n",
      "3dof/202201301501_uniform_biased_grid-walk_biasedfilter3dof_probs.dat_probs.dat  =  0.0\n",
      "3dof/202201301501_uniform_biased_grid-walk_biased3dof_probs.dat_probs.dat  =  0.0\n",
      "3dof/202201301501_uniform_biased_RRT_biasedfilter3dof_probs.dat_probs.dat  =  0.0\n",
      "3dof/202201301501_uniform_biased_RRT_biased3dof_probs.dat  =  0.47306269295971176\n",
      "3dof/202201301501_uniform_biased_grid-walk_biasedfilter3dof_probs.dat  =  0.31034761489692736\n",
      "3dof/202201301501_uniform_biased_RRT_biased3dof_probs.dat_probs.dat  =  0.0\n",
      "3dof/202201301501_uniform_biased_grid-walk_biased3dof_probs.dat  =  0.19898160502293238\n",
      "3dof/202201301501_uniform_biased_RRT_biasedfilter3dof_probs.dat  =  0.08977592880150435\n",
      "3dof/202201301428_uniform_biased__3dof_probs.dat_probs.dat  =  0.0\n"
     ]
    }
   ],
   "source": [
    "# variance calculation\n",
    "for k,v in probs.items():\n",
    "    try:\n",
    "        print(get_name(exp_map,k), \" = \", v.var())\n",
    "    except:\n",
    "        print(k, \" = \", v.var())\n",
    "\n",
    "        "
   ]
  },
  {
   "cell_type": "code",
   "execution_count": null,
   "id": "a71bc4b8-6bfe-4ee1-b195-6c2b1589d678",
   "metadata": {},
   "outputs": [],
   "source": [
    "# num iterations calculation\n",
    "glob\n"
   ]
  },
  {
   "cell_type": "code",
   "execution_count": 4,
   "id": "e5f8da33",
   "metadata": {},
   "outputs": [],
   "source": [
    "#coverage calculation\n",
    "import numba\n",
    "from  numba import jit,njit\n",
    "\n",
    "@njit(nogil=True)\n",
    "def dist(ref, samples):\n",
    "    n,m = ref.shape\n",
    "    l = len(samples)\n",
    "    lowest = np.Inf\n",
    "    current = 0\n",
    "    min_vals = np.zeros(n)\n",
    "    for i in range(n):\n",
    "        row = ref[i]\n",
    "        for k in range(l):\n",
    "            for j in range(m):\n",
    "                current += (row[j] - samples[k,j])**2\n",
    "            if current < lowest:\n",
    "                lowest = current\n",
    "            current = 0\n",
    "        min_vals[i] = lowest\n",
    "        lowest = np.Inf\n",
    "    return np.mean(min_vals)"
   ]
  },
  {
   "cell_type": "code",
   "execution_count": 75,
   "id": "26e2c264-d402-4b8d-a86e-3b849cc2b714",
   "metadata": {},
   "outputs": [
    {
     "name": "stdout",
     "output_type": "stream",
     "text": [
      "------------------------\n",
      "7dof/202201301523_uniform_biased_RRT_biasedfilter  =  0.621373567229466\n",
      "7dof/202201301526_uniform_biased_grid-walk_biased  =  1.1795623876100103\n",
      "7dof/202201301524_uniform_biased_grid-walk_biasedfilter  =  1.1923975048923527\n",
      "7dof/202201301525_uniform_biased_RRT_biased  =  0.6874332450061246\n",
      "7dof/202201300019_uniform_biased__  =  0.03909311535692992\n"
     ]
    }
   ],
   "source": [
    "\n",
    "\n",
    "\n",
    "\n",
    "print(\"------------------------\")\n",
    "folder = \"7dof\"\n",
    "ref = np.loadtxt(f\"{folder}_ref.dat\")\n",
    "experiments = glob.glob(f\"{folder}/*\")\n",
    "for e in experiments:\n",
    "    files = glob.glob(f\"{e}/*local*samples*\")\n",
    "    if len(files) == 0:\n",
    "        continue\n",
    "    samples = load_data(files)\n",
    "    try:\n",
    "        print(get_name(exp_map,e), \" = \",dist(ref,samples))\n",
    "    except:\n",
    "        print(e, \" = \",dist(ref,samples))\n",
    "\n",
    "        \n",
    "        "
   ]
  },
  {
   "cell_type": "code",
   "execution_count": 5,
   "id": "6c9302bc-b11c-460f-9481-7c70d7352e87",
   "metadata": {},
   "outputs": [
    {
     "name": "stdout",
     "output_type": "stream",
     "text": [
      "------------------------\n",
      "3dof/202201301501_uniform_biased_grid-walk_biased3dof  =  2.0376982166140382e-05\n",
      "3dof/202201301501_uniform_biased_RRT_biased3dof  =  0.001934754958489123\n",
      "3dof/202201301501_uniform_biased_grid-walk_biasedfilter3dof  =  0.0004069322319043855\n",
      "3dof/202201301501_uniform_biased_RRT_biasedfilter3dof  =  0.0014866793934215827\n",
      "3dof/202201301428_uniform_biased__3dof  =  7.146905934403517e-05\n"
     ]
    }
   ],
   "source": [
    "print(\"------------------------\")\n",
    "folder = \"3dof\"\n",
    "ref = np.loadtxt(f\"{folder}_ref.dat\")\n",
    "experiments = glob.glob(f\"{folder}/*\")\n",
    "for e in experiments:\n",
    "    files = glob.glob(f\"{e}/*local*samples*\")\n",
    "    if len(files) == 0:\n",
    "        continue\n",
    "    samples = load_data(files)\n",
    "    try:\n",
    "        print(get_name(exp_map,e), \" = \",dist(ref,samples))\n",
    "    except:\n",
    "        print(e, \" = \",dist(ref,samples))\n"
   ]
  },
  {
   "cell_type": "code",
   "execution_count": 21,
   "id": "d4c6639e-8e87-4770-bb6f-a0589a2890dc",
   "metadata": {},
   "outputs": [],
   "source": [
    "# num iterations\n",
    "\n",
    "\n",
    "folder = \"7dof\"\n",
    "experiments = glob.glob(f\"{folder}/*\")\n",
    "for e in experiments:\n",
    "    files = glob.glob(f\"{e}/*num*\")\n",
    "    d = load_data(files)\n",
    "    "
   ]
  },
  {
   "cell_type": "code",
   "execution_count": 23,
   "id": "31db5644",
   "metadata": {},
   "outputs": [
    {
     "data": {
      "text/plain": [
       "[]"
      ]
     },
     "execution_count": 23,
     "metadata": {},
     "output_type": "execute_result"
    }
   ],
   "source": [
    "files"
   ]
  },
  {
   "cell_type": "code",
   "execution_count": 19,
   "id": "763ae292",
   "metadata": {},
   "outputs": [
    {
     "ename": "IndexError",
     "evalue": "list index out of range",
     "output_type": "error",
     "traceback": [
      "\u001b[0;31m---------------------------------------------------------------------------\u001b[0m",
      "\u001b[0;31mIndexError\u001b[0m                                Traceback (most recent call last)",
      "Input \u001b[0;32mIn [19]\u001b[0m, in \u001b[0;36m<module>\u001b[0;34m\u001b[0m\n\u001b[0;32m----> 1\u001b[0m np\u001b[38;5;241m.\u001b[39mloadtxt(\u001b[43mfiles\u001b[49m\u001b[43m[\u001b[49m\u001b[38;5;241;43m0\u001b[39;49m\u001b[43m]\u001b[49m)\n",
      "\u001b[0;31mIndexError\u001b[0m: list index out of range"
     ]
    }
   ],
   "source": [
    "np.loadtxt(files[0])a"
   ]
  },
  {
   "cell_type": "raw",
   "id": "a513a758-ded5-494f-a518-96d3788afc5d",
   "metadata": {},
   "source": [
    "labels, counts = np.unique(clustering.labels_, return_counts=True)\n",
    "sorted_idx = np.argsort(-counts)\n",
    "counts = counts[sorted_idx]\n",
    "labels = labels[sorted_idx]"
   ]
  },
  {
   "cell_type": "code",
   "execution_count": 119,
   "id": "f7aaed02-3f90-4e35-8fc7-fd231c211f5d",
   "metadata": {},
   "outputs": [],
   "source": [
    "samples_to_take = np.ceil(counts/100000*1)"
   ]
  },
  {
   "cell_type": "code",
   "execution_count": 120,
   "id": "7653e421-762c-4a53-ae6b-ba41c6471d38",
   "metadata": {},
   "outputs": [],
   "source": [
    "sub_samples = np.zeros((int(samples_to_take.sum()),7))\n",
    "last_row = 0\n",
    "for i in range(len(labels)):\n",
    "    l = labels[i]\n",
    "    n_samples = int(samples_to_take[i])\n",
    "    samples_total = counts[i]\n",
    "    chosen = np.random.choice(np.arange(samples_total),replace=False,size=n_samples)\n",
    "    sub_samples[last_row:last_row+n_samples,:] = data[clustering.labels_ == l][chosen]\n",
    "    last_row += n_samples"
   ]
  },
  {
   "cell_type": "code",
   "execution_count": 121,
   "id": "cc115092-c9fc-4a71-8db4-b89cacbc8a82",
   "metadata": {},
   "outputs": [],
   "source": [
    "np.savetxt(f\"{folder}_sub.dat\", sub_samples,fmt='%f', )"
   ]
  },
  {
   "cell_type": "code",
   "execution_count": 132,
   "id": "c7711452-2f78-4923-b141-941d2875e6f8",
   "metadata": {},
   "outputs": [
    {
     "data": {
      "text/plain": [
       "array([[ 0.293842,  0.169522,  2.751547, ..., -0.32488 ,  0.665388,\n",
       "        -2.728778],\n",
       "       [ 0.236095,  0.143575,  2.791125, ..., -0.505747,  0.561269,\n",
       "        -3.099632],\n",
       "       [ 0.264391,  0.135581,  2.833389, ..., -0.166854,  0.516237,\n",
       "        -3.119066],\n",
       "       ...,\n",
       "       [ 2.604203, -0.436985, -2.786517, ...,  0.721649,  1.280649,\n",
       "         2.870159],\n",
       "       [ 2.681521, -0.375394, -2.795115, ...,  0.473283,  1.198073,\n",
       "         2.890958],\n",
       "       [ 2.662944, -0.407944, -2.802635, ...,  0.55937 ,  1.255825,\n",
       "         2.558879]])"
      ]
     },
     "execution_count": 132,
     "metadata": {},
     "output_type": "execute_result"
    }
   ],
   "source": [
    "data"
   ]
  },
  {
   "cell_type": "code",
   "execution_count": 35,
   "id": "6a5ed0bd-f0dd-489b-83d3-e3355fabe8a3",
   "metadata": {},
   "outputs": [
    {
     "name": "stdout",
     "output_type": "stream",
     "text": [
      "0.00012922286987304688\n",
      "2.5328519344329834\n",
      "2.5644075870513916\n",
      "2.530296802520752\n"
     ]
    },
    {
     "ename": "KeyboardInterrupt",
     "evalue": "",
     "output_type": "error",
     "traceback": [
      "\u001b[0;31m---------------------------------------------------------------------------\u001b[0m",
      "\u001b[0;31mKeyboardInterrupt\u001b[0m                         Traceback (most recent call last)",
      "Input \u001b[0;32mIn [35]\u001b[0m, in \u001b[0;36m<module>\u001b[0;34m\u001b[0m\n\u001b[1;32m     12\u001b[0m sample \u001b[38;5;241m=\u001b[39m data[i]\u001b[38;5;241m.\u001b[39mreshape(\u001b[38;5;241m1\u001b[39m,\u001b[38;5;241m7\u001b[39m)\n\u001b[1;32m     13\u001b[0m data_llo \u001b[38;5;241m=\u001b[39m np\u001b[38;5;241m.\u001b[39mdelete(data,i,axis\u001b[38;5;241m=\u001b[39m\u001b[38;5;241m0\u001b[39m)\n\u001b[0;32m---> 14\u001b[0m kde \u001b[38;5;241m=\u001b[39m \u001b[43mTreeKDE\u001b[49m\u001b[43m(\u001b[49m\u001b[43mkernel\u001b[49m\u001b[38;5;241;43m=\u001b[39;49m\u001b[38;5;124;43m\"\u001b[39;49m\u001b[38;5;124;43mepa\u001b[39;49m\u001b[38;5;124;43m\"\u001b[39;49m\u001b[43m,\u001b[49m\u001b[43mbw\u001b[49m\u001b[38;5;241;43m=\u001b[39;49m\u001b[38;5;241;43m0.5\u001b[39;49m\u001b[43m)\u001b[49m\u001b[38;5;241;43m.\u001b[39;49m\u001b[43mfit\u001b[49m\u001b[43m(\u001b[49m\u001b[43mdata\u001b[49m\u001b[43m)\u001b[49m\u001b[38;5;241;43m.\u001b[39;49m\u001b[43mevaluate\u001b[49m\u001b[43m(\u001b[49m\u001b[43msample\u001b[49m\u001b[43m)\u001b[49m\n",
      "File \u001b[0;32m~/anaconda3/envs/kdepy/lib/python3.10/site-packages/KDEpy/TreeKDE.py:142\u001b[0m, in \u001b[0;36mTreeKDE.evaluate\u001b[0;34m(self, grid_points, eps)\u001b[0m\n\u001b[1;32m    139\u001b[0m     bw \u001b[38;5;241m=\u001b[39m np\u001b[38;5;241m.\u001b[39masarray_chkfinite(bw, dtype\u001b[38;5;241m=\u001b[39m\u001b[38;5;28mfloat\u001b[39m)\n\u001b[1;32m    141\u001b[0m \u001b[38;5;66;03m# Initialize the tree structure for fast lookups of neighbors\u001b[39;00m\n\u001b[0;32m--> 142\u001b[0m tree \u001b[38;5;241m=\u001b[39m \u001b[43mcKDTree\u001b[49m\u001b[43m(\u001b[49m\u001b[38;5;28;43mself\u001b[39;49m\u001b[38;5;241;43m.\u001b[39;49m\u001b[43mdata\u001b[49m\u001b[43m)\u001b[49m\n\u001b[1;32m    144\u001b[0m \u001b[38;5;66;03m# Compute the kernel radius\u001b[39;00m\n\u001b[1;32m    145\u001b[0m maximal_bw \u001b[38;5;241m=\u001b[39m np\u001b[38;5;241m.\u001b[39mmax(bw)\n",
      "\u001b[0;31mKeyboardInterrupt\u001b[0m: "
     ]
    }
   ],
   "source": [
    "import time\n",
    "\n",
    "l = len(data) \n",
    "data_llo = np.zeros((l,7))\n",
    "start = time.time()\n",
    "for i in range(l):\n",
    "    \n",
    "    if i%100 == 0:\n",
    "        print(time.time() - start)\n",
    "        start = time.time()\n",
    "    sample = data[i].reshape(1,7)\n",
    "    data_llo = np.delete(data,i,axis=0)\n",
    "    kde = TreeKDE(kernel=\"epa\",bw=0.5).fit(data_llo).evaluate(sample)"
   ]
  },
  {
   "cell_type": "code",
   "execution_count": 41,
   "id": "601a404f-6cd2-473f-b607-614cc45b72af",
   "metadata": {},
   "outputs": [
    {
     "data": {
      "text/plain": [
       "26.147517442703247"
      ]
     },
     "execution_count": 41,
     "metadata": {},
     "output_type": "execute_result"
    }
   ],
   "source": [
    "start = time.time()\n",
    "kde = TreeKDE(kernel=\"epa\",bw=0.5).fit(data).evaluate(data)\n",
    "time.time() - start"
   ]
  },
  {
   "cell_type": "code",
   "execution_count": 16,
   "id": "38a4e1d9-bfef-44ba-b6dd-0d51e2659b1b",
   "metadata": {},
   "outputs": [
    {
     "data": {
      "text/plain": [
       "2.058640111138195e-06"
      ]
     },
     "execution_count": 16,
     "metadata": {},
     "output_type": "execute_result"
    }
   ],
   "source": [
    "kde.min()"
   ]
  },
  {
   "cell_type": "code",
   "execution_count": 20,
   "id": "096c1e94-d7b2-45fe-bcf3-cf54f02c1660",
   "metadata": {},
   "outputs": [
    {
     "data": {
      "text/plain": [
       "0.0027795176883481784"
      ]
     },
     "execution_count": 20,
     "metadata": {},
     "output_type": "execute_result"
    }
   ],
   "source": [
    "kde.max()"
   ]
  },
  {
   "cell_type": "code",
   "execution_count": 28,
   "id": "a5bdc456-6514-4454-b0a3-b32160a912a7",
   "metadata": {},
   "outputs": [
    {
     "data": {
      "text/plain": [
       "100000"
      ]
     },
     "execution_count": 28,
     "metadata": {},
     "output_type": "execute_result"
    }
   ],
   "source": [
    "l"
   ]
  },
  {
   "cell_type": "code",
   "execution_count": 24,
   "id": "4e07d751-6d5f-4a78-ac2d-957209590a5d",
   "metadata": {},
   "outputs": [
    {
     "data": {
      "text/plain": [
       "(100000, 7)"
      ]
     },
     "execution_count": 24,
     "metadata": {},
     "output_type": "execute_result"
    }
   ],
   "source": [
    "data.shape"
   ]
  },
  {
   "cell_type": "code",
   "execution_count": 42,
   "id": "fb4c7dc9-b30c-487b-93e2-f255a7e09df6",
   "metadata": {},
   "outputs": [
    {
     "data": {
      "text/plain": [
       "9.999999999999998"
      ]
     },
     "execution_count": 42,
     "metadata": {},
     "output_type": "execute_result"
    }
   ],
   "source": [
    "1000**(1/3)"
   ]
  },
  {
   "cell_type": "code",
   "execution_count": 44,
   "id": "8a3dd805-548d-4bcf-bfa7-f06796e8dc2b",
   "metadata": {},
   "outputs": [
    {
     "data": {
      "text/plain": [
       "0.5"
      ]
     },
     "execution_count": 44,
     "metadata": {},
     "output_type": "execute_result"
    }
   ],
   "source": [
    "10*0.5/10"
   ]
  },
  {
   "cell_type": "code",
   "execution_count": 49,
   "id": "525c0fe4-30a3-4fd4-83a3-4a1c25a21805",
   "metadata": {},
   "outputs": [],
   "source": [
    "import math\n",
    "V_conf = (2*math.pi)**7"
   ]
  },
  {
   "cell_type": "code",
   "execution_count": 55,
   "id": "80003ca8-24f2-42d8-9759-b6be1d5a526c",
   "metadata": {},
   "outputs": [
    {
     "data": {
      "text/plain": [
       "4.0"
      ]
     },
     "execution_count": 55,
     "metadata": {},
     "output_type": "execute_result"
    }
   ],
   "source": [
    "seeds = 100\n",
    "\n",
    "\n",
    "\n",
    "k = np.ceil((V_conf/100)**(1/7))\n",
    "k"
   ]
  },
  {
   "cell_type": "code",
   "execution_count": 56,
   "id": "acdfee88-db2b-4882-b564-430df71d5c3f",
   "metadata": {},
   "outputs": [
    {
     "data": {
      "text/plain": [
       "6.0"
      ]
     },
     "execution_count": 56,
     "metadata": {},
     "output_type": "execute_result"
    }
   ],
   "source": [
    "np.ceil(1000**(1/4))"
   ]
  },
  {
   "cell_type": "code",
   "execution_count": 57,
   "id": "e48082cd-945c-4e84-bf69-1b2240594fed",
   "metadata": {},
   "outputs": [
    {
     "data": {
      "text/plain": [
       "0.6000000000000001"
      ]
     },
     "execution_count": 57,
     "metadata": {},
     "output_type": "execute_result"
    }
   ],
   "source": [
    "6*0.1"
   ]
  },
  {
   "cell_type": "code",
   "execution_count": 68,
   "id": "1d27b2f3-72d0-4c71-b3c5-a591bc910b5b",
   "metadata": {},
   "outputs": [
    {
     "data": {
      "text/plain": [
       "0.13093073414159545"
      ]
     },
     "execution_count": 68,
     "metadata": {},
     "output_type": "execute_result"
    }
   ],
   "source": [
    "np.sqrt(0.1**2/7*3)*2"
   ]
  },
  {
   "cell_type": "code",
   "execution_count": null,
   "id": "30d0da47-289e-43e0-82f7-ab0b4dd761a1",
   "metadata": {},
   "outputs": [],
   "source": []
  },
  {
   "cell_type": "code",
   "execution_count": null,
   "id": "8ee81a11-dc2e-432d-8834-d032bed1256f",
   "metadata": {},
   "outputs": [],
   "source": []
  },
  {
   "cell_type": "code",
   "execution_count": null,
   "id": "619e0984-cc8e-4d46-96d2-76c020a25998",
   "metadata": {},
   "outputs": [],
   "source": []
  },
  {
   "cell_type": "code",
   "execution_count": 75,
   "id": "7d7b7009-80d9-46dd-85eb-db63e4062dc4",
   "metadata": {},
   "outputs": [],
   "source": [
    "from scipy.special import gamma, betainc"
   ]
  },
  {
   "cell_type": "code",
   "execution_count": null,
   "id": "8cec15c0-4b7f-43f0-b9ae-ef7792050e45",
   "metadata": {},
   "outputs": [],
   "source": []
  },
  {
   "cell_type": "code",
   "execution_count": 73,
   "id": "6454b6ea-f9ac-4375-83b0-aad85215327d",
   "metadata": {},
   "outputs": [
    {
     "data": {
      "text/plain": [
       "(0.5423933200575707, 3.2543599203454243)"
      ]
     },
     "execution_count": 73,
     "metadata": {},
     "output_type": "execute_result"
    }
   ],
   "source": [
    "def optimal_alpha(n, k, n_samples, l, n_seeds):\n",
    "    \"\"\"\n",
    "    k: manifold dim\n",
    "    n: ambient space dim\n",
    "    \"\"\"\n",
    "    V_total = l**n\n",
    "    edge_ambient = (V_total/n_seeds)**(1/n)\n",
    "    unit_edges_mani = np.ceil(n_samples**(1/k))\n",
    "    return edge_ambient/unit_edges_mani, edge_ambient\n",
    "\n",
    "n = 7\n",
    "k = 4\n",
    "n_samples = 1000\n",
    "l = 2*math.pi\n",
    "n_seeds = 100\n",
    "optimal_alpha(n,k,n_samples,l,n_seeds)"
   ]
  },
  {
   "cell_type": "code",
   "execution_count": 177,
   "id": "1085facd-e018-4268-afa0-31f66a2e5cce",
   "metadata": {},
   "outputs": [
    {
     "data": {
      "text/plain": [
       "1.5708795834879508"
      ]
     },
     "execution_count": 177,
     "metadata": {},
     "output_type": "execute_result"
    }
   ],
   "source": [
    "def sphere_cap_vol(n,r,a):\n",
    "    gam = gamma(n/2 + 1)\n",
    "    x = 1 - np.abs(a)**2/r**2\n",
    "    b1 = betainc((n+1)/2,1/2,x)\n",
    "    v_cap = 1/2 * (math.pi**(n/2) / gam)*(r**n)*b1\n",
    "    if a < 0:\n",
    "        v_cap = (math.pi**(n/2) / gam)*(r**n) - v_cap\n",
    "    return v_cap\n",
    "        \n",
    "        \n",
    "        \n",
    "def overlapping_volume(n,r,R,d):\n",
    "    \"\"\"\n",
    "    n: dim\n",
    "    r: small radius\n",
    "    R: large radius\n",
    "    \"\"\"\n",
    "    c1 = (d**2 + r**2 - R**2) / (2*d)\n",
    "    c2 = (d**2 - r**2 + R**2) / (2*d)\n",
    "    return sphere_cap_vol(n,r,c1) + sphere_cap_vol(n,R,c2) \n",
    "    \n",
    "\n",
    "def sphere_volume(n,r):\n",
    "    return math.pi**(n/2) / gamma(n/2 + 1) *r**n\n",
    "    \n",
    "n=2\n",
    "r=1\n",
    "d=0.8079\n",
    "R=1\n",
    "overlapping_volume(n,r,R,d)\n",
    "    "
   ]
  },
  {
   "cell_type": "code",
   "execution_count": 178,
   "id": "9deacde8-015e-4724-ad1c-a70f5cf879f0",
   "metadata": {},
   "outputs": [
    {
     "data": {
      "text/plain": [
       "array([1.57079633, 1.47062891, 1.36943841, 1.26610367, 1.15927948,\n",
       "       1.04719755, 0.92729522, 0.79539883, 0.64350111, 0.45102681])"
      ]
     },
     "execution_count": 178,
     "metadata": {},
     "output_type": "execute_result"
    }
   ],
   "source": [
    "np.arccos(np.arange(0,1,0.1))"
   ]
  },
  {
   "cell_type": "code",
   "execution_count": 187,
   "id": "e8ca468e-925f-4d97-ab2a-e8c406385ffe",
   "metadata": {},
   "outputs": [],
   "source": [
    "levels = 100\n",
    "n = 10\n",
    "T = np.zeros((100,100))\n",
    "radii = np.arange(1,101)\n",
    "volumes = sphere_volume(n,radii)\n",
    "jump_vol = volumes[0]\n",
    "vol_caps = np.zeros(levels)\n",
    "for r in radii:\n",
    "    vol_caps[r-1] = overlapping_volume(n,1,r,r)"
   ]
  },
  {
   "cell_type": "code",
   "execution_count": 189,
   "id": "0519b26d-32a6-4183-be79-341c8b3c97fb",
   "metadata": {},
   "outputs": [],
   "source": [
    "jump_back = vol_caps/jump_vol\n",
    "jump_forward = 1 - jump_back"
   ]
  },
  {
   "cell_type": "code",
   "execution_count": 193,
   "id": "5cdc295e-4f30-41ad-809f-06e4c1271d4f",
   "metadata": {},
   "outputs": [],
   "source": [
    "T[0,1] = 1\n",
    "fo "
   ]
  },
  {
   "cell_type": "code",
   "execution_count": null,
   "id": "97dc7c86-10cc-43bb-9c44-f187fb27586b",
   "metadata": {},
   "outputs": [],
   "source": []
  },
  {
   "cell_type": "code",
   "execution_count": 194,
   "id": "d93f7b48-c8d7-4c62-9428-61cd7305f272",
   "metadata": {},
   "outputs": [
    {
     "data": {
      "text/plain": [
       "array([[0., 1., 0., ..., 0., 0., 0.],\n",
       "       [0., 0., 0., ..., 0., 0., 0.],\n",
       "       [0., 0., 0., ..., 0., 0., 0.],\n",
       "       ...,\n",
       "       [0., 0., 0., ..., 0., 0., 0.],\n",
       "       [0., 0., 0., ..., 0., 0., 0.],\n",
       "       [0., 0., 0., ..., 0., 0., 0.]])"
      ]
     },
     "execution_count": 194,
     "metadata": {},
     "output_type": "execute_result"
    }
   ],
   "source": [
    "T"
   ]
  },
  {
   "cell_type": "code",
   "execution_count": 196,
   "id": "806e56a5-231c-4491-addb-1af955192b2a",
   "metadata": {},
   "outputs": [
    {
     "data": {
      "text/plain": [
       "0.1889822365046136"
      ]
     },
     "execution_count": 196,
     "metadata": {},
     "output_type": "execute_result"
    }
   ],
   "source": [
    "2*0.5**2 / np.sqrt(7)"
   ]
  },
  {
   "cell_type": "code",
   "execution_count": 130,
   "id": "c221ba29-d608-405f-a75d-2f6ff4e366f4",
   "metadata": {},
   "outputs": [
    {
     "data": {
      "text/plain": [
       "(87432, 7)"
      ]
     },
     "execution_count": 130,
     "metadata": {},
     "output_type": "execute_result"
    }
   ],
   "source": [
    "np.unique(data1.round(1),axis=0).shape"
   ]
  },
  {
   "cell_type": "code",
   "execution_count": 113,
   "id": "6596b0dc-77ff-4769-88fd-7caeb5a02b5c",
   "metadata": {},
   "outputs": [],
   "source": [
    "data1 = data.copy()"
   ]
  },
  {
   "cell_type": "code",
   "execution_count": 118,
   "id": "30800a18-9679-4cc6-a701-aaf378f9e80c",
   "metadata": {},
   "outputs": [],
   "source": [
    "data2 = data.copy()"
   ]
  },
  {
   "cell_type": "code",
   "execution_count": 123,
   "id": "35890ee3-783d-4ab0-9391-e833a2549d17",
   "metadata": {},
   "outputs": [],
   "source": [
    "data3 = data.copy()"
   ]
  },
  {
   "cell_type": "code",
   "execution_count": 157,
   "id": "2e1eed1c-ad67-4fce-9e22-3f57a3eec1ae",
   "metadata": {},
   "outputs": [],
   "source": [
    "datas = [data1, data2, data3]\n",
    "k = 1\n",
    "uniques = np.array(1)\n",
    "for d in datas:\n",
    "    unis = np.unique(d.round(k),axis=0)\n",
    "    try:\n",
    "        uniques = np.unique(np.vstack((uniques,unis)),axis=0)\n",
    "    except:\n",
    "        uniques = unis"
   ]
  },
  {
   "cell_type": "code",
   "execution_count": 158,
   "id": "4ffec30f-a4ee-4932-8fab-fd2738761de9",
   "metadata": {},
   "outputs": [
    {
     "data": {
      "text/plain": [
       "(207432, 7)"
      ]
     },
     "execution_count": 158,
     "metadata": {},
     "output_type": "execute_result"
    }
   ],
   "source": [
    "uniques.shape"
   ]
  },
  {
   "cell_type": "code",
   "execution_count": 54,
   "id": "fb3889ab-8ad2-4834-8e18-b5d7e15daa67",
   "metadata": {},
   "outputs": [],
   "source": [
    "import numba\n",
    "from  numba import jit,njit\n",
    "\n",
    "@njit(nogil=True)\n",
    "def dist(ref, samples):\n",
    "    n,m = ref.shape\n",
    "    l = len(samples)\n",
    "    lowest = np.Inf\n",
    "    current = 0\n",
    "    min_vals = np.zeros(n)\n",
    "    for i in range(n):\n",
    "        row = ref[i]\n",
    "        for k in range(l):\n",
    "            for j in range(m):\n",
    "                current += (row[j] - samples[k,j])**2\n",
    "            if current < lowest:\n",
    "                lowest = current\n",
    "            current = 0\n",
    "        min_vals[i] = lowest\n",
    "        lowest = np.Inf\n",
    "    return np.mean(min_vals)"
   ]
  },
  {
   "cell_type": "code",
   "execution_count": null,
   "id": "b88428ab-9e10-404e-a07f-2c439b2e0c36",
   "metadata": {},
   "outputs": [],
   "source": [
    "dist(uniques,data1)"
   ]
  },
  {
   "cell_type": "code",
   "execution_count": 15,
   "id": "5977fe0f-07e7-419f-80f7-b9982ab2b552",
   "metadata": {},
   "outputs": [],
   "source": [
    "unis = np.unique(np.round(data),axis=0)"
   ]
  },
  {
   "cell_type": "code",
   "execution_count": 48,
   "id": "b7c2638b-eae0-4085-9221-b55a192fc440",
   "metadata": {},
   "outputs": [],
   "source": [
    "rounded = np.round(data)\n",
    "ref = np.zeros(unis.shape)\n",
    "i = 0\n",
    "for r in unis:\n",
    "    uni_not_rounded = data[np.all(np.equal(rounded, r),axis=1)]\n",
    "    l = len(uni_not_rounded)\n",
    "    idx = np.random.randint(l)\n",
    "    ref[i,:] = uni_not_rounded[idx]\n",
    "    i += 1"
   ]
  },
  {
   "cell_type": "code",
   "execution_count": 60,
   "id": "901c6809-3fcc-4fd9-92c1-c7252739056c",
   "metadata": {},
   "outputs": [
    {
     "data": {
      "text/plain": [
       "0.26683365140423"
      ]
     },
     "execution_count": 60,
     "metadata": {},
     "output_type": "execute_result"
    }
   ],
   "source": [
    "dist(data[:100,:], data[200:300,:])"
   ]
  },
  {
   "cell_type": "code",
   "execution_count": 61,
   "id": "2c2f42f2-f072-4aae-bc2f-c5e55d43c34c",
   "metadata": {},
   "outputs": [
    {
     "ename": "TypeError",
     "evalue": "'tuple' object cannot be interpreted as an integer",
     "output_type": "error",
     "traceback": [
      "\u001b[0;31m---------------------------------------------------------------------------\u001b[0m",
      "\u001b[0;31mTypeError\u001b[0m                                 Traceback (most recent call last)",
      "\u001b[0;32m<ipython-input-61-2708c5ef75f8>\u001b[0m in \u001b[0;36m<module>\u001b[0;34m\u001b[0m\n\u001b[0;32m----> 1\u001b[0;31m \u001b[0mnp\u001b[0m\u001b[0;34m.\u001b[0m\u001b[0mrandom\u001b[0m\u001b[0;34m.\u001b[0m\u001b[0mrand\u001b[0m\u001b[0;34m(\u001b[0m\u001b[0;34m(\u001b[0m\u001b[0;36m1\u001b[0m\u001b[0;34m,\u001b[0m\u001b[0;36m2\u001b[0m\u001b[0;34m)\u001b[0m\u001b[0;34m)\u001b[0m\u001b[0;34m\u001b[0m\u001b[0;34m\u001b[0m\u001b[0m\n\u001b[0m",
      "\u001b[0;32mmtrand.pyx\u001b[0m in \u001b[0;36mnumpy.random.mtrand.RandomState.rand\u001b[0;34m()\u001b[0m\n",
      "\u001b[0;32mmtrand.pyx\u001b[0m in \u001b[0;36mnumpy.random.mtrand.RandomState.random_sample\u001b[0;34m()\u001b[0m\n",
      "\u001b[0;32m_common.pyx\u001b[0m in \u001b[0;36mnumpy.random._common.double_fill\u001b[0;34m()\u001b[0m\n",
      "\u001b[0;31mTypeError\u001b[0m: 'tuple' object cannot be interpreted as an integer"
     ]
    }
   ],
   "source": []
  },
  {
   "cell_type": "code",
   "execution_count": 74,
   "id": "0dd7fda5-e15b-402a-8c3e-bf585f16478e",
   "metadata": {},
   "outputs": [],
   "source": [
    "n_s = 10000\n",
    "\n",
    "dims_tracker = {}\n",
    "dims = [1,2,3,4,5,6,7]\n",
    "for n in dims:\n",
    "    dims_tracker[n] = np.linalg.norm(np.random.rand(n_s*n).reshape(n_s,n) - 0.5,axis=1)\n"
   ]
  },
  {
   "cell_type": "code",
   "execution_count": 73,
   "id": "626a86a8-e11f-458c-b193-a2cc8b6ccf01",
   "metadata": {},
   "outputs": [],
   "source": [
    "import matplotlib.pyplot as plt"
   ]
  },
  {
   "cell_type": "code",
   "execution_count": 79,
   "id": "32d3776e-3f55-46db-a0c3-73e01499b884",
   "metadata": {},
   "outputs": [
    {
     "data": {
      "text/plain": [
       "<matplotlib.legend.Legend at 0x7ffaf97ec100>"
      ]
     },
     "execution_count": 79,
     "metadata": {},
     "output_type": "execute_result"
    },
    {
     "data": {
      "image/png": "[encoded data removed]",
      "text/plain": [
       "<Figure size 432x288 with 1 Axes>"
      ]
     },
     "metadata": {
      "needs_background": "light"
     },
     "output_type": "display_data"
    }
   ],
   "source": [
    "for n in dims:\n",
    "    plt.hist(dims_tracker[n], alpha=0.5, label=n)\n",
    "plt.legend()\n"
   ]
  },
  {
   "cell_type": "code",
   "execution_count": null,
   "id": "e0c34d4c-6d21-4e17-bc8e-25c9d875ef50",
   "metadata": {},
   "outputs": [],
   "source": []
  }
 ],
 "metadata": {
  "kernelspec": {
   "display_name": "Python 3 (ipykernel)",
   "language": "python",
   "name": "python3"
  },
  "language_info": {
   "codemirror_mode": {
    "name": "ipython",
    "version": 3
   },
   "file_extension": ".py",
   "mimetype": "text/x-python",
   "name": "python",
   "nbconvert_exporter": "python",
   "pygments_lexer": "ipython3",
   "version": "3.10.2"
  }
 },
 "nbformat": 4,
 "nbformat_minor": 5
}
